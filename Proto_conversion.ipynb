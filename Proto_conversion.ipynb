{
  "cells": [
    {
      "cell_type": "markdown",
      "metadata": {
        "id": "view-in-github",
        "colab_type": "text"
      },
      "source": [
        "<a href=\"https://colab.research.google.com/github/olliemamuda/Individual_Short_Project/blob/main/Proto_conversion.ipynb\" target=\"_parent\"><img src=\"https://colab.research.google.com/assets/colab-badge.svg\" alt=\"Open In Colab\"/></a>"
      ]
    },
    {
      "cell_type": "markdown",
      "id": "459f31ae-6b93-4397-873e-05c0281ec98b",
      "metadata": {
        "id": "459f31ae-6b93-4397-873e-05c0281ec98b"
      },
      "source": [
        "### Converting from old prototype storage to new prototype storage"
      ]
    },
    {
      "cell_type": "code",
      "execution_count": null,
      "id": "7b098220-90f4-4e82-a3ce-4db464ff11a5",
      "metadata": {
        "id": "7b098220-90f4-4e82-a3ce-4db464ff11a5",
        "outputId": "5bd6ff45-19ca-43b0-a486-24d66796310b"
      },
      "outputs": [
        {
          "data": {
            "text/html": [
              "<div>\n",
              "<style scoped>\n",
              "    .dataframe tbody tr th:only-of-type {\n",
              "        vertical-align: middle;\n",
              "    }\n",
              "\n",
              "    .dataframe tbody tr th {\n",
              "        vertical-align: top;\n",
              "    }\n",
              "\n",
              "    .dataframe thead th {\n",
              "        text-align: right;\n",
              "    }\n",
              "</style>\n",
              "<table border=\"1\" class=\"dataframe\">\n",
              "  <thead>\n",
              "    <tr style=\"text-align: right;\">\n",
              "      <th></th>\n",
              "      <th>number</th>\n",
              "      <th>proto</th>\n",
              "    </tr>\n",
              "  </thead>\n",
              "  <tbody>\n",
              "    <tr>\n",
              "      <th>0</th>\n",
              "      <td>0</td>\n",
              "      <td>[0.0, 0.0, 2.0, 12.0, 15.0, 3.0, 0.0, 0.0, 0.0...</td>\n",
              "    </tr>\n",
              "    <tr>\n",
              "      <th>1</th>\n",
              "      <td>1</td>\n",
              "      <td>[0.0, 0.0, 0.0, 0.0, 11.0, 12.0, 0.0, 0.0, 0.0...</td>\n",
              "    </tr>\n",
              "    <tr>\n",
              "      <th>2</th>\n",
              "      <td>2</td>\n",
              "      <td>[0.0, 0.0, 3.0, 12.0, 16.0, 16.0, 3.0, 0.0, 0....</td>\n",
              "    </tr>\n",
              "    <tr>\n",
              "      <th>3</th>\n",
              "      <td>3</td>\n",
              "      <td>[0.0, 0.0, 10.0, 16.0, 15.0, 7.0, 0.0, 0.0, 0....</td>\n",
              "    </tr>\n",
              "    <tr>\n",
              "      <th>4</th>\n",
              "      <td>4</td>\n",
              "      <td>[0.0, 0.0, 3.0, 16.0, 0.0, 0.0, 0.0, 0.0, 0.0,...</td>\n",
              "    </tr>\n",
              "  </tbody>\n",
              "</table>\n",
              "</div>"
            ],
            "text/plain": [
              "   number                                              proto\n",
              "0       0  [0.0, 0.0, 2.0, 12.0, 15.0, 3.0, 0.0, 0.0, 0.0...\n",
              "1       1  [0.0, 0.0, 0.0, 0.0, 11.0, 12.0, 0.0, 0.0, 0.0...\n",
              "2       2  [0.0, 0.0, 3.0, 12.0, 16.0, 16.0, 3.0, 0.0, 0....\n",
              "3       3  [0.0, 0.0, 10.0, 16.0, 15.0, 7.0, 0.0, 0.0, 0....\n",
              "4       4  [0.0, 0.0, 3.0, 16.0, 0.0, 0.0, 0.0, 0.0, 0.0,..."
            ]
          },
          "execution_count": 1,
          "metadata": {},
          "output_type": "execute_result"
        }
      ],
      "source": [
        "import pandas as pd\n",
        "\n",
        "df = pd.read_csv(\"protos/randProtos.csv\", sep=\"|\")\n",
        "df.head()"
      ]
    },
    {
      "cell_type": "code",
      "execution_count": null,
      "id": "5dee45d4-f4a5-4ae1-a984-1b1339a1c780",
      "metadata": {
        "id": "5dee45d4-f4a5-4ae1-a984-1b1339a1c780",
        "outputId": "3553d8a7-4488-4f53-b217-ded1d9711dc7"
      },
      "outputs": [
        {
          "data": {
            "text/html": [
              "<div>\n",
              "<style scoped>\n",
              "    .dataframe tbody tr th:only-of-type {\n",
              "        vertical-align: middle;\n",
              "    }\n",
              "\n",
              "    .dataframe tbody tr th {\n",
              "        vertical-align: top;\n",
              "    }\n",
              "\n",
              "    .dataframe thead th {\n",
              "        text-align: right;\n",
              "    }\n",
              "</style>\n",
              "<table border=\"1\" class=\"dataframe\">\n",
              "  <thead>\n",
              "    <tr style=\"text-align: right;\">\n",
              "      <th></th>\n",
              "      <th>repetition</th>\n",
              "      <th>number</th>\n",
              "      <th>proto</th>\n",
              "    </tr>\n",
              "  </thead>\n",
              "  <tbody>\n",
              "    <tr>\n",
              "      <th>0</th>\n",
              "      <td>0</td>\n",
              "      <td>0</td>\n",
              "      <td>[0.0, 0.0, 2.0, 12.0, 15.0, 3.0, 0.0, 0.0, 0.0...</td>\n",
              "    </tr>\n",
              "    <tr>\n",
              "      <th>1</th>\n",
              "      <td>0</td>\n",
              "      <td>1</td>\n",
              "      <td>[0.0, 0.0, 0.0, 0.0, 11.0, 12.0, 0.0, 0.0, 0.0...</td>\n",
              "    </tr>\n",
              "    <tr>\n",
              "      <th>2</th>\n",
              "      <td>0</td>\n",
              "      <td>2</td>\n",
              "      <td>[0.0, 0.0, 3.0, 12.0, 16.0, 16.0, 3.0, 0.0, 0....</td>\n",
              "    </tr>\n",
              "    <tr>\n",
              "      <th>3</th>\n",
              "      <td>0</td>\n",
              "      <td>3</td>\n",
              "      <td>[0.0, 0.0, 10.0, 16.0, 15.0, 7.0, 0.0, 0.0, 0....</td>\n",
              "    </tr>\n",
              "    <tr>\n",
              "      <th>4</th>\n",
              "      <td>0</td>\n",
              "      <td>4</td>\n",
              "      <td>[0.0, 0.0, 3.0, 16.0, 0.0, 0.0, 0.0, 0.0, 0.0,...</td>\n",
              "    </tr>\n",
              "    <tr>\n",
              "      <th>...</th>\n",
              "      <td>...</td>\n",
              "      <td>...</td>\n",
              "      <td>...</td>\n",
              "    </tr>\n",
              "    <tr>\n",
              "      <th>95</th>\n",
              "      <td>9</td>\n",
              "      <td>5</td>\n",
              "      <td>[0.0, 4.0, 15.0, 16.0, 16.0, 16.0, 4.0, 0.0, 0...</td>\n",
              "    </tr>\n",
              "    <tr>\n",
              "      <th>96</th>\n",
              "      <td>9</td>\n",
              "      <td>6</td>\n",
              "      <td>[0.0, 0.0, 0.0, 12.0, 15.0, 4.0, 0.0, 0.0, 0.0...</td>\n",
              "    </tr>\n",
              "    <tr>\n",
              "      <th>97</th>\n",
              "      <td>9</td>\n",
              "      <td>7</td>\n",
              "      <td>[0.0, 0.0, 1.0, 12.0, 16.0, 16.0, 12.0, 0.0, 0...</td>\n",
              "    </tr>\n",
              "    <tr>\n",
              "      <th>98</th>\n",
              "      <td>9</td>\n",
              "      <td>8</td>\n",
              "      <td>[0.0, 0.0, 3.0, 15.0, 13.0, 2.0, 0.0, 0.0, 0.0...</td>\n",
              "    </tr>\n",
              "    <tr>\n",
              "      <th>99</th>\n",
              "      <td>9</td>\n",
              "      <td>9</td>\n",
              "      <td>[0.0, 0.0, 6.0, 12.0, 11.0, 0.0, 0.0, 0.0, 0.0...</td>\n",
              "    </tr>\n",
              "  </tbody>\n",
              "</table>\n",
              "<p>100 rows × 3 columns</p>\n",
              "</div>"
            ],
            "text/plain": [
              "    repetition  number                                              proto\n",
              "0            0       0  [0.0, 0.0, 2.0, 12.0, 15.0, 3.0, 0.0, 0.0, 0.0...\n",
              "1            0       1  [0.0, 0.0, 0.0, 0.0, 11.0, 12.0, 0.0, 0.0, 0.0...\n",
              "2            0       2  [0.0, 0.0, 3.0, 12.0, 16.0, 16.0, 3.0, 0.0, 0....\n",
              "3            0       3  [0.0, 0.0, 10.0, 16.0, 15.0, 7.0, 0.0, 0.0, 0....\n",
              "4            0       4  [0.0, 0.0, 3.0, 16.0, 0.0, 0.0, 0.0, 0.0, 0.0,...\n",
              "..         ...     ...                                                ...\n",
              "95           9       5  [0.0, 4.0, 15.0, 16.0, 16.0, 16.0, 4.0, 0.0, 0...\n",
              "96           9       6  [0.0, 0.0, 0.0, 12.0, 15.0, 4.0, 0.0, 0.0, 0.0...\n",
              "97           9       7  [0.0, 0.0, 1.0, 12.0, 16.0, 16.0, 12.0, 0.0, 0...\n",
              "98           9       8  [0.0, 0.0, 3.0, 15.0, 13.0, 2.0, 0.0, 0.0, 0.0...\n",
              "99           9       9  [0.0, 0.0, 6.0, 12.0, 11.0, 0.0, 0.0, 0.0, 0.0...\n",
              "\n",
              "[100 rows x 3 columns]"
            ]
          },
          "execution_count": 2,
          "metadata": {},
          "output_type": "execute_result"
        }
      ],
      "source": [
        "df.insert(0, \"repetition\", [int(i/10) for i in range(0, len(df))], True)\n",
        "df"
      ]
    },
    {
      "cell_type": "code",
      "execution_count": null,
      "id": "6d00b2e3-9196-49b5-a384-6425beac3ccf",
      "metadata": {
        "id": "6d00b2e3-9196-49b5-a384-6425beac3ccf"
      },
      "outputs": [],
      "source": [
        "df.to_csv(\"protos/randProtos2.csv\", sep=\"|\", index=False)"
      ]
    },
    {
      "cell_type": "markdown",
      "id": "b32e6222-1bdc-4198-bd9a-9dbd994cfab6",
      "metadata": {
        "id": "b32e6222-1bdc-4198-bd9a-9dbd994cfab6"
      },
      "source": [
        "### If we want to overwrite 'repetitions'"
      ]
    },
    {
      "cell_type": "code",
      "execution_count": null,
      "id": "e1106498-d42d-409b-bc9f-2aa927d21556",
      "metadata": {
        "id": "e1106498-d42d-409b-bc9f-2aa927d21556",
        "outputId": "b04d3588-bace-4c1b-fb0a-3cf4b980cc3a"
      },
      "outputs": [
        {
          "data": {
            "text/html": [
              "<div>\n",
              "<style scoped>\n",
              "    .dataframe tbody tr th:only-of-type {\n",
              "        vertical-align: middle;\n",
              "    }\n",
              "\n",
              "    .dataframe tbody tr th {\n",
              "        vertical-align: top;\n",
              "    }\n",
              "\n",
              "    .dataframe thead th {\n",
              "        text-align: right;\n",
              "    }\n",
              "</style>\n",
              "<table border=\"1\" class=\"dataframe\">\n",
              "  <thead>\n",
              "    <tr style=\"text-align: right;\">\n",
              "      <th></th>\n",
              "      <th>repetition</th>\n",
              "      <th>number</th>\n",
              "      <th>prototype</th>\n",
              "    </tr>\n",
              "  </thead>\n",
              "  <tbody>\n",
              "    <tr>\n",
              "      <th>0</th>\n",
              "      <td>0</td>\n",
              "      <td>0</td>\n",
              "      <td>[0.0, 3.1822489494355954, 14.780907397382155, ...</td>\n",
              "    </tr>\n",
              "    <tr>\n",
              "      <th>1</th>\n",
              "      <td>1</td>\n",
              "      <td>1</td>\n",
              "      <td>[0.0, 7.439955086935594, 0.995799578540522, 1....</td>\n",
              "    </tr>\n",
              "    <tr>\n",
              "      <th>2</th>\n",
              "      <td>2</td>\n",
              "      <td>2</td>\n",
              "      <td>[0.0, 6.722750142671064, 15.862029107300845, 5...</td>\n",
              "    </tr>\n",
              "    <tr>\n",
              "      <th>3</th>\n",
              "      <td>3</td>\n",
              "      <td>3</td>\n",
              "      <td>[0.0, 7.8816351561567135, 5.711827829307781, 1...</td>\n",
              "    </tr>\n",
              "    <tr>\n",
              "      <th>4</th>\n",
              "      <td>4</td>\n",
              "      <td>4</td>\n",
              "      <td>[0.0, 0.37838145439310544, 10.124536780007073,...</td>\n",
              "    </tr>\n",
              "  </tbody>\n",
              "</table>\n",
              "</div>"
            ],
            "text/plain": [
              "   repetition  number                                          prototype\n",
              "0           0       0  [0.0, 3.1822489494355954, 14.780907397382155, ...\n",
              "1           1       1  [0.0, 7.439955086935594, 0.995799578540522, 1....\n",
              "2           2       2  [0.0, 6.722750142671064, 15.862029107300845, 5...\n",
              "3           3       3  [0.0, 7.8816351561567135, 5.711827829307781, 1...\n",
              "4           4       4  [0.0, 0.37838145439310544, 10.124536780007073,..."
            ]
          },
          "execution_count": 14,
          "metadata": {},
          "output_type": "execute_result"
        }
      ],
      "source": [
        "df.head()"
      ]
    },
    {
      "cell_type": "code",
      "execution_count": null,
      "id": "7b5611c4-0383-4a09-aafc-d9cefecd81ea",
      "metadata": {
        "id": "7b5611c4-0383-4a09-aafc-d9cefecd81ea",
        "outputId": "92111c8d-917a-4de8-aca6-8623fa5b9bdb"
      },
      "outputs": [
        {
          "data": {
            "text/html": [
              "<div>\n",
              "<style scoped>\n",
              "    .dataframe tbody tr th:only-of-type {\n",
              "        vertical-align: middle;\n",
              "    }\n",
              "\n",
              "    .dataframe tbody tr th {\n",
              "        vertical-align: top;\n",
              "    }\n",
              "\n",
              "    .dataframe thead th {\n",
              "        text-align: right;\n",
              "    }\n",
              "</style>\n",
              "<table border=\"1\" class=\"dataframe\">\n",
              "  <thead>\n",
              "    <tr style=\"text-align: right;\">\n",
              "      <th></th>\n",
              "      <th>number</th>\n",
              "      <th>prototype</th>\n",
              "    </tr>\n",
              "  </thead>\n",
              "  <tbody>\n",
              "    <tr>\n",
              "      <th>0</th>\n",
              "      <td>0</td>\n",
              "      <td>[0.0, 3.1822489494355954, 14.780907397382155, ...</td>\n",
              "    </tr>\n",
              "    <tr>\n",
              "      <th>1</th>\n",
              "      <td>1</td>\n",
              "      <td>[0.0, 7.439955086935594, 0.995799578540522, 1....</td>\n",
              "    </tr>\n",
              "    <tr>\n",
              "      <th>2</th>\n",
              "      <td>2</td>\n",
              "      <td>[0.0, 6.722750142671064, 15.862029107300845, 5...</td>\n",
              "    </tr>\n",
              "    <tr>\n",
              "      <th>3</th>\n",
              "      <td>3</td>\n",
              "      <td>[0.0, 7.8816351561567135, 5.711827829307781, 1...</td>\n",
              "    </tr>\n",
              "    <tr>\n",
              "      <th>4</th>\n",
              "      <td>4</td>\n",
              "      <td>[0.0, 0.37838145439310544, 10.124536780007073,...</td>\n",
              "    </tr>\n",
              "  </tbody>\n",
              "</table>\n",
              "</div>"
            ],
            "text/plain": [
              "   number                                          prototype\n",
              "0       0  [0.0, 3.1822489494355954, 14.780907397382155, ...\n",
              "1       1  [0.0, 7.439955086935594, 0.995799578540522, 1....\n",
              "2       2  [0.0, 6.722750142671064, 15.862029107300845, 5...\n",
              "3       3  [0.0, 7.8816351561567135, 5.711827829307781, 1...\n",
              "4       4  [0.0, 0.37838145439310544, 10.124536780007073,..."
            ]
          },
          "execution_count": 18,
          "metadata": {},
          "output_type": "execute_result"
        }
      ],
      "source": [
        "df.pop(\"repetition\")\n",
        "df.head()"
      ]
    },
    {
      "cell_type": "markdown",
      "id": "546fb884-6bbe-406c-a18d-1073027d253a",
      "metadata": {
        "id": "546fb884-6bbe-406c-a18d-1073027d253a"
      },
      "source": [
        "# Merging a Part 1 and Part 2"
      ]
    },
    {
      "cell_type": "code",
      "execution_count": null,
      "id": "e56734f3-0ca4-45db-912c-9668e579b43f",
      "metadata": {
        "id": "e56734f3-0ca4-45db-912c-9668e579b43f",
        "outputId": "2df9d6e9-76ea-4721-a7f0-aa04b22db481"
      },
      "outputs": [
        {
          "data": {
            "text/html": [
              "<div>\n",
              "<style scoped>\n",
              "    .dataframe tbody tr th:only-of-type {\n",
              "        vertical-align: middle;\n",
              "    }\n",
              "\n",
              "    .dataframe tbody tr th {\n",
              "        vertical-align: top;\n",
              "    }\n",
              "\n",
              "    .dataframe thead th {\n",
              "        text-align: right;\n",
              "    }\n",
              "</style>\n",
              "<table border=\"1\" class=\"dataframe\">\n",
              "  <thead>\n",
              "    <tr style=\"text-align: right;\">\n",
              "      <th></th>\n",
              "      <th>repetition</th>\n",
              "      <th>number</th>\n",
              "      <th>prototype</th>\n",
              "    </tr>\n",
              "  </thead>\n",
              "  <tbody>\n",
              "    <tr>\n",
              "      <th>0</th>\n",
              "      <td>5</td>\n",
              "      <td>0</td>\n",
              "      <td>[0.0, 0.3122343085147712, 1.1351583866260775, ...</td>\n",
              "    </tr>\n",
              "    <tr>\n",
              "      <th>1</th>\n",
              "      <td>5</td>\n",
              "      <td>0</td>\n",
              "      <td>[0.0, 0.3122343085147712, 1.1351583866260775, ...</td>\n",
              "    </tr>\n",
              "    <tr>\n",
              "      <th>2</th>\n",
              "      <td>5</td>\n",
              "      <td>1</td>\n",
              "      <td>[0.0, 0.030749334561466668, 11.498556283820394...</td>\n",
              "    </tr>\n",
              "    <tr>\n",
              "      <th>3</th>\n",
              "      <td>5</td>\n",
              "      <td>1</td>\n",
              "      <td>[0.0, 5.6246091147170425, 6.75799610079493, 2....</td>\n",
              "    </tr>\n",
              "    <tr>\n",
              "      <th>4</th>\n",
              "      <td>5</td>\n",
              "      <td>2</td>\n",
              "      <td>[0.0, 1.511777533770661, 15.077824263751666, 1...</td>\n",
              "    </tr>\n",
              "  </tbody>\n",
              "</table>\n",
              "</div>"
            ],
            "text/plain": [
              "   repetition  number                                          prototype\n",
              "0           5       0  [0.0, 0.3122343085147712, 1.1351583866260775, ...\n",
              "1           5       0  [0.0, 0.3122343085147712, 1.1351583866260775, ...\n",
              "2           5       1  [0.0, 0.030749334561466668, 11.498556283820394...\n",
              "3           5       1  [0.0, 5.6246091147170425, 6.75799610079493, 2....\n",
              "4           5       2  [0.0, 1.511777533770661, 15.077824263751666, 1..."
            ]
          },
          "execution_count": 3,
          "metadata": {},
          "output_type": "execute_result"
        }
      ],
      "source": [
        "import pandas as pd\n",
        "\n",
        "df1 = pd.read_csv(\"protos/shared denoised (2 protos per class)/gaProtos_part1.csv\", sep=\"|\")\n",
        "df2 = pd.read_csv(\"protos/shared denoised (2 protos per class)/gaProtos_part2.csv\", sep=\"|\")\n",
        "df2.head()"
      ]
    },
    {
      "cell_type": "code",
      "execution_count": null,
      "id": "18efe7be-2819-4b87-82e3-243e5967026b",
      "metadata": {
        "id": "18efe7be-2819-4b87-82e3-243e5967026b",
        "outputId": "faaf8fc9-ffe8-4bb1-a5fe-574729d4b874"
      },
      "outputs": [
        {
          "data": {
            "text/html": [
              "<div>\n",
              "<style scoped>\n",
              "    .dataframe tbody tr th:only-of-type {\n",
              "        vertical-align: middle;\n",
              "    }\n",
              "\n",
              "    .dataframe tbody tr th {\n",
              "        vertical-align: top;\n",
              "    }\n",
              "\n",
              "    .dataframe thead th {\n",
              "        text-align: right;\n",
              "    }\n",
              "</style>\n",
              "<table border=\"1\" class=\"dataframe\">\n",
              "  <thead>\n",
              "    <tr style=\"text-align: right;\">\n",
              "      <th></th>\n",
              "      <th>repetition</th>\n",
              "      <th>number</th>\n",
              "      <th>prototype</th>\n",
              "    </tr>\n",
              "  </thead>\n",
              "  <tbody>\n",
              "    <tr>\n",
              "      <th>0</th>\n",
              "      <td>0</td>\n",
              "      <td>0</td>\n",
              "      <td>[0.0, 0.10645836093833427, 2.32716003405311, 2...</td>\n",
              "    </tr>\n",
              "    <tr>\n",
              "      <th>1</th>\n",
              "      <td>0</td>\n",
              "      <td>0</td>\n",
              "      <td>[0.0, 0.10645836093833427, 2.32716003405311, 1...</td>\n",
              "    </tr>\n",
              "    <tr>\n",
              "      <th>2</th>\n",
              "      <td>0</td>\n",
              "      <td>1</td>\n",
              "      <td>[0.0, 2.2675546464308205, 10.170755576234235, ...</td>\n",
              "    </tr>\n",
              "    <tr>\n",
              "      <th>3</th>\n",
              "      <td>0</td>\n",
              "      <td>1</td>\n",
              "      <td>[0.0, 2.2675546464308205, 10.170755576234235, ...</td>\n",
              "    </tr>\n",
              "    <tr>\n",
              "      <th>4</th>\n",
              "      <td>0</td>\n",
              "      <td>2</td>\n",
              "      <td>[0.0, 0.27963705382425363, 12.454381652011875,...</td>\n",
              "    </tr>\n",
              "    <tr>\n",
              "      <th>...</th>\n",
              "      <td>...</td>\n",
              "      <td>...</td>\n",
              "      <td>...</td>\n",
              "    </tr>\n",
              "    <tr>\n",
              "      <th>195</th>\n",
              "      <td>9</td>\n",
              "      <td>7</td>\n",
              "      <td>[0.0, 6.585390405264068, 0.8835060397970231, 0...</td>\n",
              "    </tr>\n",
              "    <tr>\n",
              "      <th>196</th>\n",
              "      <td>9</td>\n",
              "      <td>8</td>\n",
              "      <td>[0.0, 0.012817341137780325, 14.972287059787098...</td>\n",
              "    </tr>\n",
              "    <tr>\n",
              "      <th>197</th>\n",
              "      <td>9</td>\n",
              "      <td>8</td>\n",
              "      <td>[0.0, 0.012817341137780325, 14.972287059787098...</td>\n",
              "    </tr>\n",
              "    <tr>\n",
              "      <th>198</th>\n",
              "      <td>9</td>\n",
              "      <td>9</td>\n",
              "      <td>[0.0, 0.31074751085704566, 14.610824009345468,...</td>\n",
              "    </tr>\n",
              "    <tr>\n",
              "      <th>199</th>\n",
              "      <td>9</td>\n",
              "      <td>9</td>\n",
              "      <td>[0.0, 0.07300717672789325, 13.03065442744279, ...</td>\n",
              "    </tr>\n",
              "  </tbody>\n",
              "</table>\n",
              "<p>200 rows × 3 columns</p>\n",
              "</div>"
            ],
            "text/plain": [
              "     repetition  number                                          prototype\n",
              "0             0       0  [0.0, 0.10645836093833427, 2.32716003405311, 2...\n",
              "1             0       0  [0.0, 0.10645836093833427, 2.32716003405311, 1...\n",
              "2             0       1  [0.0, 2.2675546464308205, 10.170755576234235, ...\n",
              "3             0       1  [0.0, 2.2675546464308205, 10.170755576234235, ...\n",
              "4             0       2  [0.0, 0.27963705382425363, 12.454381652011875,...\n",
              "..          ...     ...                                                ...\n",
              "195           9       7  [0.0, 6.585390405264068, 0.8835060397970231, 0...\n",
              "196           9       8  [0.0, 0.012817341137780325, 14.972287059787098...\n",
              "197           9       8  [0.0, 0.012817341137780325, 14.972287059787098...\n",
              "198           9       9  [0.0, 0.31074751085704566, 14.610824009345468,...\n",
              "199           9       9  [0.0, 0.07300717672789325, 13.03065442744279, ...\n",
              "\n",
              "[200 rows x 3 columns]"
            ]
          },
          "execution_count": 4,
          "metadata": {},
          "output_type": "execute_result"
        }
      ],
      "source": [
        "df = pd.concat((df1, df2), ignore_index=True)\n",
        "df"
      ]
    },
    {
      "cell_type": "code",
      "execution_count": null,
      "id": "837a2882-1aef-4d6d-85da-8ac4145a99b5",
      "metadata": {
        "id": "837a2882-1aef-4d6d-85da-8ac4145a99b5"
      },
      "outputs": [],
      "source": [
        "df.to_csv(\"protos/shared denoised (2 protos per class)/gaProtos.csv\", sep=\"|\", index=False)"
      ]
    },
    {
      "cell_type": "code",
      "execution_count": null,
      "id": "3c10a1f2-b02e-429a-8a92-358e468b9ac9",
      "metadata": {
        "id": "3c10a1f2-b02e-429a-8a92-358e468b9ac9"
      },
      "outputs": [],
      "source": []
    }
  ],
  "metadata": {
    "kernelspec": {
      "display_name": "Python 3 (ipykernel)",
      "language": "python",
      "name": "python3"
    },
    "language_info": {
      "codemirror_mode": {
        "name": "ipython",
        "version": 3
      },
      "file_extension": ".py",
      "mimetype": "text/x-python",
      "name": "python",
      "nbconvert_exporter": "python",
      "pygments_lexer": "ipython3",
      "version": "3.11.7"
    },
    "colab": {
      "provenance": [],
      "include_colab_link": true
    }
  },
  "nbformat": 4,
  "nbformat_minor": 5
}