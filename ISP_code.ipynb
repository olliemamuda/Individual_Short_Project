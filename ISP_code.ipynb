{
  "cells": [
    {
      "cell_type": "markdown",
      "metadata": {
        "id": "view-in-github",
        "colab_type": "text"
      },
      "source": [
        "<a href=\"https://colab.research.google.com/github/olliemamuda/Individual_Short_Project/blob/main/ISP_code.ipynb\" target=\"_parent\"><img src=\"https://colab.research.google.com/assets/colab-badge.svg\" alt=\"Open In Colab\"/></a>"
      ]
    },
    {
      "cell_type": "code",
      "source": [
        "from google.colab import drive\n",
        "drive.mount('/content/drive')"
      ],
      "metadata": {
        "colab": {
          "base_uri": "https://localhost:8080/"
        },
        "id": "XUJ3h6erm0Al",
        "outputId": "31b97a73-6700-4ce0-81c2-23ad1fb6b4e7"
      },
      "id": "XUJ3h6erm0Al",
      "execution_count": null,
      "outputs": [
        {
          "output_type": "stream",
          "name": "stdout",
          "text": [
            "Drive already mounted at /content/drive; to attempt to forcibly remount, call drive.mount(\"/content/drive\", force_remount=True).\n"
          ]
        }
      ]
    },
    {
      "cell_type": "markdown",
      "id": "9d1a6160-924e-45e9-8834-fbb2c2f6dd4c",
      "metadata": {
        "id": "9d1a6160-924e-45e9-8834-fbb2c2f6dd4c"
      },
      "source": [
        "# GA applied to Simple Neural Network\n",
        "\n",
        "# Data Pre-processing\n",
        "\n",
        "First we set a random seed for repeatability and import all modules"
      ]
    },
    {
      "cell_type": "code",
      "execution_count": null,
      "id": "d4fda0af-6cf4-48f6-adf7-941450b8e140",
      "metadata": {
        "id": "d4fda0af-6cf4-48f6-adf7-941450b8e140"
      },
      "outputs": [],
      "source": [
        "import numpy as np\n",
        "import random\n",
        "import pandas as pd\n",
        "from sklearn.model_selection import train_test_split\n",
        "from sklearn.datasets import load_digits\n",
        "from sklearn.preprocessing import OneHotEncoder\n",
        "from sklearn.linear_model import LogisticRegression\n",
        "from sklearn.neural_network import MLPClassifier\n",
        "from sklearn.neural_network import MLPRegressor\n",
        "import tensorflow as tf\n",
        "import matplotlib.pyplot as plt\n",
        "import ast\n",
        "from sklearn.neighbors import KNeighborsClassifier\n",
        "from sklearn.decomposition import PCA\n",
        "\n",
        "randomSeed = 0\n",
        "np.random.seed(randomSeed)\n",
        "random.seed(randomSeed)"
      ]
    },
    {
      "cell_type": "markdown",
      "id": "629dc367-918e-4959-a022-cb066ae505f8",
      "metadata": {
        "id": "629dc367-918e-4959-a022-cb066ae505f8"
      },
      "source": [
        "## Processing the Iris dataset"
      ]
    },
    {
      "cell_type": "code",
      "execution_count": null,
      "id": "adef3b91-771a-4e54-88e2-ce104b8a7320",
      "metadata": {
        "id": "adef3b91-771a-4e54-88e2-ce104b8a7320"
      },
      "outputs": [],
      "source": [
        "# open the dataset\n",
        "dataset = \"iris\"\n",
        "df = pd.read_csv(\"drive/MyDrive/ISP_datasets/iris/iris.data\", names=[\"sepal_length\",\n",
        "                                             \"sepal_width\",\n",
        "                                             \"petal_length\",\n",
        "                                             \"petal_width\",\n",
        "                                             \"class\"])\n",
        "\n",
        "# map classes to 1 for Iris Setosa, 0 otherwise\n",
        "oneHotEncode = False\n",
        "df[\"class\"] = list(map(lambda x: 1 if(x == \"Iris-versicolor\") else 0, df[\"class\"]))\n",
        "\n",
        "# get X and y from df\n",
        "y = df.pop(\"class\").to_numpy()\n",
        "X = df.to_numpy()\n",
        "numClasses = len(np.unique(y))\n",
        "\n",
        "X_tr, X_test, y_tr, y_test = train_test_split(X, y, test_size=0.3)"
      ]
    },
    {
      "cell_type": "markdown",
      "id": "e2b7ff33-2c91-4a64-9c6b-e29d07b58464",
      "metadata": {
        "id": "e2b7ff33-2c91-4a64-9c6b-e29d07b58464"
      },
      "source": [
        "## Processing the MNIST Dataset"
      ]
    },
    {
      "cell_type": "code",
      "execution_count": null,
      "id": "11f54f7a-6028-401e-8ca1-6d71ed4d755a",
      "metadata": {
        "id": "11f54f7a-6028-401e-8ca1-6d71ed4d755a"
      },
      "outputs": [],
      "source": [
        "oneHotEncode = True\n",
        "sideLength = 8\n",
        "\n",
        "# load the dataset and split\n",
        "dataset = \"mnist\"\n",
        "X, y = load_digits(return_X_y=True)\n",
        "X = np.array(X)\n",
        "y = np.array(y)\n",
        "numClasses = len(np.unique(y))\n",
        "\n",
        "# One Hot Encode y\n",
        "if(oneHotEncode):\n",
        "    y = y.reshape(-1, 1)\n",
        "    y = OneHotEncoder().fit_transform(y).toarray()\n",
        "else:\n",
        "    y = np.array(list(map(lambda el: 1 if(el == 0) else 0, y)))\n",
        "\n",
        "X_tr, X_test, y_tr, y_test = train_test_split(X, y, test_size=0.1, random_state=randomSeed)"
      ]
    },
    {
      "cell_type": "markdown",
      "id": "6f30083e-36a6-4932-81fb-754ccaaf173b",
      "metadata": {
        "id": "6f30083e-36a6-4932-81fb-754ccaaf173b"
      },
      "source": [
        "## Processing the Fashion MNIST Dataset"
      ]
    },
    {
      "cell_type": "code",
      "execution_count": null,
      "id": "f629830f-25ba-4d04-9765-3b9eaee0ca8c",
      "metadata": {
        "id": "f629830f-25ba-4d04-9765-3b9eaee0ca8c"
      },
      "outputs": [],
      "source": [
        "# If using TensorFlow, set oneHotEncode to False! (it does it itself)\n",
        "oneHotEncode = False  # True\n",
        "sideLength = 28\n",
        "\n",
        "# open the datasets\n",
        "dataset = \"fashionMnist\"\n",
        "df_test = pd.read_csv(\"drive/MyDrive/ISP_datasets/fashionMNIST/fashion-mnist_test.csv\")\n",
        "df_tr = pd.read_csv(\"drive/MyDrive/ISP_datasets/fashionMNIST/fashion-mnist_train.csv\")\n",
        "\n",
        "# Make X_tr, ..., y_test\n",
        "y_tr = df_tr.pop(\"label\").to_numpy()\n",
        "X_tr = df_tr.to_numpy()\n",
        "y_test = df_test.pop(\"label\").to_numpy()\n",
        "X_test = df_test.to_numpy()\n",
        "numClasses = len(np.unique(y_tr, axis=0))\n",
        "\n",
        "# One-Hot-Encode\n",
        "if(oneHotEncode):\n",
        "    y_tr = y_tr.reshape(-1, 1)\n",
        "    y_tr = OneHotEncoder().fit_transform(y_tr).toarray()\n",
        "\n",
        "    y_test = y_test.reshape(-1, 1)\n",
        "    y_test = OneHotEncoder().fit_transform(y_test).toarray()"
      ]
    },
    {
      "cell_type": "markdown",
      "id": "d3ad8834-6b0b-4ce2-8851-f26e3eefbdc3",
      "metadata": {
        "id": "d3ad8834-6b0b-4ce2-8851-f26e3eefbdc3"
      },
      "source": [
        "# Model Training"
      ]
    },
    {
      "cell_type": "markdown",
      "source": [
        "## For Dataset"
      ],
      "metadata": {
        "id": "3lDb4jLc03ac"
      },
      "id": "3lDb4jLc03ac"
    },
    {
      "cell_type": "markdown",
      "source": [
        "### Train logistic regression model\n",
        "\n",
        "Only use for Iris, or MNIST with 1d labels (no one hot encoding)"
      ],
      "metadata": {
        "id": "GZkCuXP707q0"
      },
      "id": "GZkCuXP707q0"
    },
    {
      "cell_type": "code",
      "execution_count": null,
      "id": "d5efc85a-2981-4e29-bcfc-5655598dcb25",
      "metadata": {
        "id": "d5efc85a-2981-4e29-bcfc-5655598dcb25",
        "outputId": "c2574bfa-67fb-40f7-821e-75d96e975d1f"
      },
      "outputs": [
        {
          "name": "stdout",
          "output_type": "stream",
          "text": [
            "Logistic Regression Score on training data: 0.7523809523809524\n",
            "Logistic Regression Score on test data: 0.6444444444444445\n"
          ]
        }
      ],
      "source": [
        "if(oneHotEncode):\n",
        "    print(\"error, one hot encoding.\")\n",
        "\n",
        "# liblinear recommended from sklearn documentation\n",
        "lrModel = LogisticRegression(solver=\"lbfgs\", random_state=randomSeed) # penaulty = None\n",
        "lrModel.fit(X_tr, y_tr)\n",
        "\n",
        "#evaluation\n",
        "print(\"Logistic Regression Score on training data: \"+str(lrModel.score(X_tr, y_tr)))\n",
        "print(\"Logistic Regression Score on test data: \"+str(lrModel.score(X_test, y_test)))"
      ]
    },
    {
      "cell_type": "markdown",
      "id": "c040b19a-0f6a-4f5b-b57d-39ad4e9319cf",
      "metadata": {
        "id": "c040b19a-0f6a-4f5b-b57d-39ad4e9319cf"
      },
      "source": [
        "### Simple MLP"
      ]
    },
    {
      "cell_type": "code",
      "execution_count": null,
      "id": "e6a1869c-124e-4ea3-a80c-0343c9e543dc",
      "metadata": {
        "colab": {
          "base_uri": "https://localhost:8080/"
        },
        "id": "e6a1869c-124e-4ea3-a80c-0343c9e543dc",
        "outputId": "cc9734a9-c648-4423-95ca-8ca90ced3de4"
      },
      "outputs": [
        {
          "output_type": "stream",
          "name": "stderr",
          "text": [
            "/usr/local/lib/python3.10/dist-packages/sklearn/neural_network/_multilayer_perceptron.py:693: UserWarning: Training interrupted by user.\n",
            "  warnings.warn(\"Training interrupted by user.\")\n"
          ]
        },
        {
          "output_type": "stream",
          "name": "stdout",
          "text": [
            "NN accuracy on training set: 0.9149833333333334\n",
            "NN accuracy on test set: 0.8422\n"
          ]
        }
      ],
      "source": [
        "if(dataset == \"fashionMnist\"):\n",
        "    hidden_layer_sizes = (128,)\n",
        "    batch_size = 1000\n",
        "else:\n",
        "    hidden_layer_sizes = (50,)\n",
        "    batch_size = \"auto\"\n",
        "\n",
        "nnModel = MLPClassifier(hidden_layer_sizes = hidden_layer_sizes,\n",
        "                        batch_size=batch_size,\n",
        "                        random_state=randomSeed)\n",
        "nnModel.fit(X_tr, y_tr)\n",
        "\n",
        "print(\"NN accuracy on training set: \"+str(nnModel.score(X_tr, y_tr)))\n",
        "print(\"NN accuracy on test set: \"+str(nnModel.score(X_test, y_test)))"
      ]
    },
    {
      "cell_type": "markdown",
      "source": [
        "### TF Neural Network"
      ],
      "metadata": {
        "id": "O5OA5xjDuEnG"
      },
      "id": "O5OA5xjDuEnG"
    },
    {
      "cell_type": "code",
      "source": [
        "# Create model and define loss\n",
        "tfNNModel = tf.keras.models.Sequential([\n",
        "    tf.keras.layers.Flatten(input_shape=(28, 28)),\n",
        "    tf.keras.layers.Dense(500, activation='relu'),\n",
        "    #tf.keras.layers.Dropout(0.1),\n",
        "    tf.keras.layers.Dense(200, activation='relu'),\n",
        "    #tf.keras.layers.Dropout(0.1),\n",
        "    tf.keras.layers.Dense(10)\n",
        "])\n",
        "lossFunc = tf.keras.losses.SparseCategoricalCrossentropy(from_logits=True)\n",
        "\n",
        "# Compile and fit\n",
        "tfNNModel.compile(optimizer='adam',\n",
        "                loss=lossFunc,\n",
        "                metrics=['accuracy'])\n",
        "tfNNModel.fit(X_tr.reshape(len(X_tr), 28, 28), y_tr, batch_size=200, epochs=5)\n",
        "\n",
        "# Evaluate\n",
        "print(\"NN metrics on training set:\")\n",
        "print(tfNNModel.evaluate(X_tr.reshape(len(X_tr), 28, 28),  y_tr, verbose=2))\n",
        "print()\n",
        "\n",
        "print(\"NN metrics on test set:\")\n",
        "print(tfNNModel.evaluate(X_test.reshape(len(X_test), 28, 28),  y_test, verbose=2))"
      ],
      "metadata": {
        "colab": {
          "base_uri": "https://localhost:8080/"
        },
        "id": "kvBcDn7Sqgxe",
        "outputId": "b6c9b638-00ea-4b74-b204-af556707c3c6"
      },
      "id": "kvBcDn7Sqgxe",
      "execution_count": null,
      "outputs": [
        {
          "output_type": "stream",
          "name": "stdout",
          "text": [
            "Epoch 1/5\n",
            "300/300 [==============================] - 7s 20ms/step - loss: 5.7718 - accuracy: 0.7590\n",
            "Epoch 2/5\n",
            "300/300 [==============================] - 6s 19ms/step - loss: 0.9191 - accuracy: 0.8160\n",
            "Epoch 3/5\n",
            "300/300 [==============================] - 5s 15ms/step - loss: 0.5583 - accuracy: 0.8437\n",
            "Epoch 4/5\n",
            "300/300 [==============================] - 6s 18ms/step - loss: 0.4460 - accuracy: 0.8580\n",
            "Epoch 5/5\n",
            "300/300 [==============================] - 5s 16ms/step - loss: 0.3848 - accuracy: 0.8702\n",
            "NN metrics on training set:\n",
            "1875/1875 - 4s - loss: 0.3425 - accuracy: 0.8775 - 4s/epoch - 2ms/step\n",
            "[0.34251245856285095, 0.8774999976158142]\n",
            "\n",
            "NN metrics on test set:\n",
            "313/313 - 1s - loss: 0.4560 - accuracy: 0.8570 - 1s/epoch - 4ms/step\n",
            "[0.4559515118598938, 0.8569999933242798]\n"
          ]
        }
      ]
    },
    {
      "cell_type": "code",
      "source": [
        "# Make logits a probability distribution\n",
        "tfNNProbModel = tf.keras.Sequential([\n",
        "    tfNNModel,\n",
        "    tf.keras.layers.Softmax()\n",
        "])\n",
        "\n",
        "# making logits normalised (no softmax)\n",
        "#def tfNNProbModel(x):\n",
        "#    arr = np.array(tfNNModel(x)[0])\n",
        "#    newArr = (arr - np.min(arr)) / (max(arr) - min(arr))\n",
        "#    return [newArr]"
      ],
      "metadata": {
        "id": "CIkrGxAnuYQA"
      },
      "id": "CIkrGxAnuYQA",
      "execution_count": null,
      "outputs": []
    },
    {
      "cell_type": "markdown",
      "source": [
        "## For Noise Classification"
      ],
      "metadata": {
        "id": "owsREpWn1DAi"
      },
      "id": "owsREpWn1DAi"
    },
    {
      "cell_type": "markdown",
      "id": "b6318e47-7485-4fee-af6c-f52305f5199c",
      "metadata": {
        "id": "b6318e47-7485-4fee-af6c-f52305f5199c"
      },
      "source": [
        "### Noise vs Data Processing"
      ]
    },
    {
      "cell_type": "code",
      "execution_count": null,
      "id": "94792149-e8c6-44ac-9611-00247410de55",
      "metadata": {
        "id": "94792149-e8c6-44ac-9611-00247410de55"
      },
      "outputs": [],
      "source": [
        "if(dataset == \"fashionMnist\"):\n",
        "    maxPixel = 255 # 17\n",
        "else:\n",
        "    maxPixel = 17\n",
        "\n",
        "# Create dataset from noise and data\n",
        "noise_tr = np.random.randint(0, maxPixel, (X_tr.shape[0], X_tr.shape[1]))\n",
        "X_noisy_tr = np.concatenate((noise_tr, X_tr))\n",
        "y_noisy_tr = np.concatenate(([0 for _ in range(0, X_tr.shape[0])], [1 for _ in range(0, X_tr.shape[0])]), axis=0)\n",
        "\n",
        "noise_test = np.random.randint(0, maxPixel, (X_test.shape[0], X_tr.shape[1]))\n",
        "X_noisy_test = np.concatenate((noise_test, X_test))\n",
        "y_noisy_test = np.concatenate(([0 for _ in range(0, X_test.shape[0])], [1 for _ in range(0, X_test.shape[0])]), axis=0)\n",
        "\n",
        "# Shuffle\n",
        "shuffleIndices_tr = np.arange(X_noisy_tr.shape[0])\n",
        "np.random.shuffle(shuffleIndices_tr)\n",
        "X_noisy_tr = X_noisy_tr[shuffleIndices_tr]\n",
        "y_noisy_tr = y_noisy_tr[shuffleIndices_tr]\n",
        "\n",
        "shuffleIndices_test = np.arange(X_noisy_test.shape[0])\n",
        "np.random.shuffle(shuffleIndices_test)\n",
        "X_noisy_test = X_noisy_test[shuffleIndices_test]\n",
        "y_noisy_test = y_noisy_test[shuffleIndices_test]"
      ]
    },
    {
      "cell_type": "markdown",
      "id": "8a28f8f7-40cd-4dac-84ca-ea284805f303",
      "metadata": {
        "id": "8a28f8f7-40cd-4dac-84ca-ea284805f303"
      },
      "source": [
        "### Noise vs Data NN Model (sklearn classification)"
      ]
    },
    {
      "cell_type": "code",
      "execution_count": null,
      "id": "d184d0aa-b078-4432-8a0e-54d760b12947",
      "metadata": {
        "id": "d184d0aa-b078-4432-8a0e-54d760b12947",
        "colab": {
          "base_uri": "https://localhost:8080/"
        },
        "outputId": "678b97c5-f3b5-4e07-e644-af02548943cd"
      },
      "outputs": [
        {
          "output_type": "stream",
          "name": "stdout",
          "text": [
            "NN accuracy on training set: 1.0\n",
            "NN accuracy on test set: 1.0\n"
          ]
        }
      ],
      "source": [
        "if(dataset == \"fashionMnist\"):\n",
        "    batch_size = \"auto\" # 1000\n",
        "else:\n",
        "    batch_size = \"auto\"\n",
        "\n",
        "# Train\n",
        "isDataModelnn = MLPClassifier(hidden_layer_sizes = (50,), random_state=randomSeed, batch_size=batch_size)\n",
        "isDataModelnn.fit(X_noisy_tr, y_noisy_tr)\n",
        "\n",
        "print(\"NN accuracy on training set: \"+str(isDataModelnn.score(X_noisy_tr[:1000], y_noisy_tr[:1000])))\n",
        "print(\"NN accuracy on test set: \"+str(isDataModelnn.score(X_noisy_test[:1000], y_noisy_test[:1000])))"
      ]
    },
    {
      "cell_type": "markdown",
      "id": "e5f4bb15-c740-4a4d-ad6f-a81f34425e44",
      "metadata": {
        "id": "e5f4bb15-c740-4a4d-ad6f-a81f34425e44"
      },
      "source": [
        "### Noise vs LR Model"
      ]
    },
    {
      "cell_type": "code",
      "execution_count": null,
      "id": "f14ca35e-b1f9-48b0-8f43-4ff463c55911",
      "metadata": {
        "id": "f14ca35e-b1f9-48b0-8f43-4ff463c55911"
      },
      "outputs": [],
      "source": [
        "# Train\n",
        "isDataModellr = LogisticRegression(random_state=randomSeed)\n",
        "isDataModellr.fit(X_noisy_tr, y_noisy_tr)\n",
        "\n",
        "print(\"NN accuracy on training set: \"+str(isDataModellr.score(X_noisy_tr, y_noisy_tr)))\n",
        "print(\"NN accuracy on test set: \"+str(isDataModellr.score(X_noisy_test, y_noisy_test)))"
      ]
    },
    {
      "cell_type": "markdown",
      "source": [
        "## For Noise Regression"
      ],
      "metadata": {
        "id": "alaWBM-n1bV8"
      },
      "id": "alaWBM-n1bV8"
    },
    {
      "cell_type": "markdown",
      "id": "df2ae27d-2462-4827-b613-6fc81fd73a74",
      "metadata": {
        "id": "df2ae27d-2462-4827-b613-6fc81fd73a74"
      },
      "source": [
        "### Noise to Data Preprocessing"
      ]
    },
    {
      "cell_type": "code",
      "execution_count": null,
      "id": "78a76435-c7e3-4707-9e20-5db53311dbb3",
      "metadata": {
        "id": "78a76435-c7e3-4707-9e20-5db53311dbb3"
      },
      "outputs": [],
      "source": [
        "if(dataset == \"fashionMnist\"):\n",
        "    maxPixel = 255 # 17\n",
        "else:\n",
        "    maxPixel = 17\n",
        "\n",
        "X_noisy = []\n",
        "y_noisy = []\n",
        "for i in range(0, len(X_tr)):\n",
        "    # get ndr and noise\n",
        "    noiseToDataRatio = np.random.rand() # 0 = noise, 1 = data\n",
        "    noise = np.random.randint(0, maxPixel, (X_tr.shape[1]))\n",
        "    data = X_tr[i]\n",
        "\n",
        "    # combine and store\n",
        "    dp = (noise * (1 - noiseToDataRatio)) + (data * noiseToDataRatio)\n",
        "    X_noisy.append(dp)\n",
        "    y_noisy.append(noiseToDataRatio)\n",
        "\n",
        "X_noisy = np.array(X_noisy)\n",
        "y_noisy = np.array(y_noisy)\n",
        "X_noisy_tr, X_noisy_test, y_noisy_tr, y_noisy_test = train_test_split(X_noisy, y_noisy, test_size=0.1)"
      ]
    },
    {
      "cell_type": "markdown",
      "id": "179e6260-1307-4574-a4c2-88b471e65d54",
      "metadata": {
        "id": "179e6260-1307-4574-a4c2-88b471e65d54"
      },
      "source": [
        "### Noisy to Data NN Model (sklearn regression)"
      ]
    },
    {
      "cell_type": "code",
      "execution_count": null,
      "id": "356beb17-2fbe-41b3-b2dc-22330aa3e325",
      "metadata": {
        "id": "356beb17-2fbe-41b3-b2dc-22330aa3e325"
      },
      "outputs": [],
      "source": [
        "if(dataset == \"fashionMnist\"):\n",
        "    batch_size = \"auto\" # 1000\n",
        "else:\n",
        "    batch_size = \"auto\"\n",
        "\n",
        "# Train\n",
        "isDataModelNNreg = MLPRegressor(hidden_layer_sizes = (300, 100), random_state=randomSeed, batch_size=batch_size)\n",
        "isDataModelNNreg.fit(X_noisy_tr, y_noisy_tr)\n",
        "\n",
        "print(\"NN accuracy on training set: \"+str(isDataModelNNreg.score(X_noisy_tr[:1000], y_noisy_tr[:1000])))\n",
        "print(\"NN accuracy on test set: \"+str(isDataModelNNreg.score(X_noisy_test[:1000], y_noisy_test[:1000])))"
      ]
    },
    {
      "cell_type": "markdown",
      "source": [
        "### Noise to Data NN Model (TensorFlow regression)"
      ],
      "metadata": {
        "id": "pSn-ZWQiBplr"
      },
      "id": "pSn-ZWQiBplr"
    },
    {
      "cell_type": "code",
      "source": [
        "# Create model and define loss\n",
        "tfIsDataModelnn = tf.keras.models.Sequential([\n",
        "    tf.keras.layers.Flatten(input_shape=(28, 28)),\n",
        "    tf.keras.layers.Dense(128, activation='relu'),\n",
        "    tf.keras.layers.Dropout(0.2),\n",
        "    tf.keras.layers.Dense(1)\n",
        "])\n",
        "\n",
        "# Compile and fit\n",
        "tfIsDataModelnn.compile(optimizer='adam',\n",
        "                        loss='mean_absolute_error',\n",
        "                        metrics=[tf.keras.metrics.R2Score()])\n",
        "tfIsDataModelnn.fit(X_noisy_tr.reshape(-1, 28, 28), y_noisy_tr, epochs=5)\n",
        "\n",
        "# Evaluate\n",
        "print(\"NN metrics on training set:\")\n",
        "print(tfIsDataModelnn.evaluate(X_noisy_tr.reshape(-1, 28, 28),  y_noisy_tr, verbose=2))\n",
        "print()\n",
        "\n",
        "print(\"NN metrics on test set:\")\n",
        "print(tfIsDataModelnn.evaluate(X_noisy_test.reshape(-1, 28, 28),  y_noisy_test, verbose=2))"
      ],
      "metadata": {
        "colab": {
          "base_uri": "https://localhost:8080/"
        },
        "id": "yT0u86MKBu75",
        "outputId": "23ad6ca7-327f-468b-a7a1-deb40356abe3"
      },
      "id": "yT0u86MKBu75",
      "execution_count": null,
      "outputs": [
        {
          "output_type": "stream",
          "name": "stdout",
          "text": [
            "Epoch 1/5\n",
            "1688/1688 [==============================] - 11s 6ms/step - loss: 2.2646 - r2_score: -5682.0552\n",
            "Epoch 2/5\n",
            "1688/1688 [==============================] - 9s 5ms/step - loss: 0.1683 - r2_score: -0.0568\n",
            "Epoch 3/5\n",
            "1688/1688 [==============================] - 7s 4ms/step - loss: 0.1608 - r2_score: 0.3853\n",
            "Epoch 4/5\n",
            "1688/1688 [==============================] - 11s 7ms/step - loss: 0.1605 - r2_score: 0.3871\n",
            "Epoch 5/5\n",
            "1688/1688 [==============================] - 13s 8ms/step - loss: 0.1592 - r2_score: 0.4454\n",
            "NN metrics on training set:\n",
            "1688/1688 - 3s - loss: 0.1390 - r2_score: 0.6502 - 3s/epoch - 2ms/step\n",
            "[0.1389869898557663, 0.6501695513725281]\n",
            "\n",
            "NN metrics on test set:\n",
            "188/188 - 0s - loss: 0.1462 - r2_score: 0.2176 - 379ms/epoch - 2ms/step\n",
            "[0.14615117013454437, 0.2175644040107727]\n"
          ]
        }
      ]
    },
    {
      "cell_type": "markdown",
      "source": [
        "## For Autoencoder"
      ],
      "metadata": {
        "id": "9BZ8sSdAUCJx"
      },
      "id": "9BZ8sSdAUCJx"
    },
    {
      "cell_type": "markdown",
      "source": [
        "### TF Autoencoder"
      ],
      "metadata": {
        "id": "vWnKxmfbUHHY"
      },
      "id": "vWnKxmfbUHHY"
    },
    {
      "cell_type": "code",
      "source": [
        "latentSpaceSize = 64\n",
        "\n",
        "def getDataForEncoder(targetClass):\n",
        "    # dont think this will happen, cba to code it\n",
        "    if(oneHotEncode):\n",
        "        print(\"Autoencoder error, you're one hot encoded\")\n",
        "\n",
        "    # Training\n",
        "    new_X_tr = []\n",
        "    for i, y_point in enumerate(y_tr):\n",
        "        if(y_point == targetClass):\n",
        "            new_X_tr.append(X_tr[i])\n",
        "\n",
        "    # Testing\n",
        "    new_X_test = []\n",
        "    for i, y_point in enumerate(y_test):\n",
        "        if(y_point == targetClass):\n",
        "            new_X_test.append(X_test[i])\n",
        "\n",
        "    return np.array(new_X_tr), np.array(new_X_test)\n",
        "\n",
        "def makeAutoencoder(new_X_tr, new_X_test):\n",
        "    tfEncoder = tf.keras.models.Sequential([\n",
        "        tf.keras.layers.Flatten(input_shape=(784,)),\n",
        "        tf.keras.layers.Dense(350, activation='sigmoid'),\n",
        "        tf.keras.layers.Dense(latentSpaceSize, activation='sigmoid')\n",
        "    ])\n",
        "\n",
        "    tfDecoder = tf.keras.models.Sequential([\n",
        "        tf.keras.layers.Dense(350, activation='sigmoid'),\n",
        "        tf.keras.layers.Dense(784, activation='sigmoid'),\n",
        "        tf.keras.layers.Reshape((784,))\n",
        "    ])\n",
        "\n",
        "    tfAutoencoder = tf.keras.Sequential([\n",
        "        tfEncoder,\n",
        "        tfDecoder\n",
        "    ])\n",
        "\n",
        "    tfAutoencoder.compile(optimizer='adam',\n",
        "                          loss=tf.keras.losses.MeanSquaredError())\n",
        "    tfAutoencoder.fit(new_X_tr, new_X_tr,\n",
        "                      epochs=10,\n",
        "                      shuffle=True)\n",
        "                      #validation_data=(new_X_test, new_X_test))\n",
        "\n",
        "    return tfAutoencoder, tfEncoder, tfDecoder"
      ],
      "metadata": {
        "id": "CA9_zAXDUJ_R"
      },
      "id": "CA9_zAXDUJ_R",
      "execution_count": null,
      "outputs": []
    },
    {
      "cell_type": "code",
      "source": [
        "new_X_tr, new_X_test = getDataForEncoder(8)\n",
        "tfAutoencoder, tfEncoder, tfDecoder = makeAutoencoder(new_X_tr / 255, new_X_test / 255)"
      ],
      "metadata": {
        "colab": {
          "base_uri": "https://localhost:8080/"
        },
        "id": "er-789UAATug",
        "outputId": "1ec32fe2-406c-4f48-f536-cee6b656201e"
      },
      "id": "er-789UAATug",
      "execution_count": null,
      "outputs": [
        {
          "output_type": "stream",
          "name": "stdout",
          "text": [
            "Epoch 1/10\n",
            "188/188 [==============================] - 3s 11ms/step - loss: 0.0689\n",
            "Epoch 2/10\n",
            "188/188 [==============================] - 2s 10ms/step - loss: 0.0415\n",
            "Epoch 3/10\n",
            "188/188 [==============================] - 2s 10ms/step - loss: 0.0359\n",
            "Epoch 4/10\n",
            "188/188 [==============================] - 3s 15ms/step - loss: 0.0318\n",
            "Epoch 5/10\n",
            "188/188 [==============================] - 2s 13ms/step - loss: 0.0300\n",
            "Epoch 6/10\n",
            "188/188 [==============================] - 2s 10ms/step - loss: 0.0289\n",
            "Epoch 7/10\n",
            "188/188 [==============================] - 2s 10ms/step - loss: 0.0280\n",
            "Epoch 8/10\n",
            "188/188 [==============================] - 2s 11ms/step - loss: 0.0272\n",
            "Epoch 9/10\n",
            "188/188 [==============================] - 2s 10ms/step - loss: 0.0266\n",
            "Epoch 10/10\n",
            "188/188 [==============================] - 2s 11ms/step - loss: 0.0261\n"
          ]
        }
      ]
    },
    {
      "cell_type": "code",
      "source": [
        "a = new_X_tr[10] / 255\n",
        "b = tfEncoder(a.reshape(1, 784))\n",
        "c = tfDecoder(b)\n",
        "\n",
        "print(np.max(a))\n",
        "\n",
        "fig, (ax1, ax2) = plt.subplots(1, 2)\n",
        "ax1.imshow(a.reshape((sideLength, sideLength)), cmap='Greys', interpolation='nearest')\n",
        "ax2.imshow(np.array(c).reshape((sideLength, sideLength)), cmap='Greys', interpolation='nearest')\n",
        "plt.show()"
      ],
      "metadata": {
        "colab": {
          "base_uri": "https://localhost:8080/",
          "height": 304
        },
        "id": "eS6IXTJ13upv",
        "outputId": "8c33a7ae-7e9c-4f4b-c930-9e6b707f8106"
      },
      "id": "eS6IXTJ13upv",
      "execution_count": null,
      "outputs": [
        {
          "output_type": "stream",
          "name": "stdout",
          "text": [
            "1.02\n"
          ]
        },
        {
          "output_type": "display_data",
          "data": {
            "text/plain": [
              "<Figure size 640x480 with 2 Axes>"
            ],
            "image/png": "[encoded data removed]"
          },
          "metadata": {}
        }
      ]
    },
    {
      "cell_type": "markdown",
      "id": "7aeaa1dc-a687-4825-995a-45fecb062970",
      "metadata": {
        "id": "7aeaa1dc-a687-4825-995a-45fecb062970"
      },
      "source": [
        "# The Genetic Algorithm"
      ]
    },
    {
      "cell_type": "markdown",
      "source": [
        "### Helper Functions and Hyperparamaters\n",
        "\n",
        "Defines hyperparamaters, allele boundaries and initalization function for population"
      ],
      "metadata": {
        "id": "zyIp2Kix1oiE"
      },
      "id": "zyIp2Kix1oiE"
    },
    {
      "cell_type": "code",
      "execution_count": null,
      "id": "4e049e3c-1963-4bf4-8ac5-26a1a1e65080",
      "metadata": {
        "id": "4e049e3c-1963-4bf4-8ac5-26a1a1e65080"
      },
      "outputs": [],
      "source": [
        "# Hyperparamaters\n",
        "N = 100\n",
        "maxGenerations = 500\n",
        "numParents = 30\n",
        "tournamentSizes = 3\n",
        "mutationRate = 0.01\n",
        "doingFitnessCuttoff = True\n",
        "fitnessCuttoff = 1.0\n",
        "l = 0.0005    # Extent to which we penalise closeness to mean hyperparameter (only if using fitnessRegulaised)\n",
        "l2 = 0.001      # Extent to which we penalise being noisy hyperparameter (only if using fitnessDenoised)\n",
        "l3 =  50    # Only for FitnessSharing\n",
        "alpha = 1    # Only for FitnessSharing\n",
        "model = tfNNProbModel\n",
        "modelType = \"tf nn\"     # from [\"sklearn nn\", \"tf nn\", \"sklearn lr\"]\n",
        "isDataModel = isDataModelnn\n",
        "isDataModelType = \"nn classification\"       # from [\"nn regression\", \"nn classification\", \"lr\", \"tf nn regression\"]\n",
        "usingAutoenc = False\n",
        "\n",
        "\n",
        "\n",
        "\n",
        "\n",
        "# Define dimensions of individual\n",
        "if(usingAutoenc):\n",
        "    individualDim = latentSpaceSize\n",
        "else:\n",
        "    individualDim = X_tr.shape[1]\n",
        "\n",
        "# Define boundaries of an individual\n",
        "if(usingAutoenc):\n",
        "    mins = np.repeat(0, individualDim)\n",
        "    maxs = np.repeat(1, individualDim)\n",
        "else:\n",
        "    mins = np.min(X_tr, axis=0)\n",
        "    maxs = np.max(X_tr, axis=0)\n",
        "\n",
        "#Define average individual in target class\n",
        "if(not usingAutoenc):\n",
        "    ave = np.zeros(numClasses * X_tr.shape[1]).reshape(numClasses, X_tr.shape[1])\n",
        "\n",
        "    count = np.zeros(numClasses)\n",
        "    for i, dp in enumerate(X_tr):\n",
        "        if(oneHotEncode):\n",
        "            # Get label\n",
        "            j = np.where(y_tr[i] == 1)[0][0]\n",
        "\n",
        "            ave[j] += dp\n",
        "            count[j] += 1\n",
        "        else:\n",
        "            ave[y_tr[i]] += dp\n",
        "            count[y_tr[i]] += 1\n",
        "        #elif(y_tr[i] == 1):\n",
        "        #    ave += dp\n",
        "\n",
        "        #count += 1\n",
        "    for i in range(0, numClasses):\n",
        "        ave[i] /= count[i]\n",
        "\n",
        "# Allows the fitness functions to use the ML models\n",
        "def predict(individual, targetClass):\n",
        "    # Make sure we're using image representation\n",
        "    if(usingAutoenc):\n",
        "        decodedImage = tfDecoder(individual.reshape(1, -1))\n",
        "        imageRep = np.array(decodedImage) * 255\n",
        "    else:\n",
        "        imageRep = individual\n",
        "\n",
        "    # Do prediction\n",
        "    if(modelType == \"sklearn nn\"):\n",
        "        if(targetClass == -1):\n",
        "            return model.predict_proba(imageRep.reshape(1, -1))[0][1]\n",
        "        else:\n",
        "            return model.predict_proba(imageRep.reshape(1, -1))[0][targetClass]\n",
        "    elif(modelType == \"tf nn\"):\n",
        "        return float(model(imageRep.reshape(1, sideLength, sideLength))[0][targetClass])\n",
        "\n",
        "# returns penalty for being noisy\n",
        "def getDenoisedPen(individual):\n",
        "    if(isDataModelType == \"nn regression\" or isDataModelType == \"tf nn regression\"):\n",
        "        # Get 'dataness' and bound between 0 and 1\n",
        "        if(isDataModelType == \"nn regression\"):\n",
        "            dataness = isDataModel.predict(individual.reshape(1, -1))[0]\n",
        "        elif(isDataModelType == \"tf nn regression\"):\n",
        "            dataness = float(isDataModel(individual.reshape(-1, 28, 28))[0][0])\n",
        "\n",
        "        if(dataness > 1):\n",
        "            dataness = 1\n",
        "        elif(dataness < 0):\n",
        "            dataness = 0\n",
        "\n",
        "        # Calulate and return pen\n",
        "        pen = (-1 * dataness) + 1\n",
        "        return pen\n",
        "    elif(isDataModelType == \"nn classification\" or isDataModelType == \"lr\"):\n",
        "        return isDataModel.predict_proba(individual.reshape(1, -1))[0][0]\n",
        "\n",
        "# Starts with uniform random alleles in the correct range\n",
        "def init_population(N, targetClass):\n",
        "    population = np.zeros((N, individualDim))\n",
        "\n",
        "    for i in range(0, N):\n",
        "        # create random individual\n",
        "        individual = np.zeros(individualDim)\n",
        "        for j in range(0, len(individual)):\n",
        "            individual[j] = random.uniform(mins[j], maxs[j])\n",
        "\n",
        "        # Add them to population\n",
        "        population[i] = individual\n",
        "\n",
        "    return population\n",
        "\n"
      ]
    },
    {
      "cell_type": "markdown",
      "id": "25fdc0a2-2a52-4899-bc87-0c2f2c52c751",
      "metadata": {
        "id": "25fdc0a2-2a52-4899-bc87-0c2f2c52c751"
      },
      "source": [
        "Define fitness and parent selection function"
      ]
    },
    {
      "cell_type": "code",
      "execution_count": null,
      "id": "f0e1340f-21f2-4ee9-a192-d10e68c26eed",
      "metadata": {
        "id": "f0e1340f-21f2-4ee9-a192-d10e68c26eed"
      },
      "outputs": [],
      "source": [
        "# fitness = probability individual is classified as target class\n",
        "def fitness(targetClass, individual, population):\n",
        "    return predict(individual, targetClass)\n",
        "\n",
        "# Uses 'l' to discourage being far from the average\n",
        "def fitnessRegularised(targetClass, individual, population):\n",
        "    return fitness(targetClass, individual, population) - l*np.linalg.norm(individual - ave[targetClass])\n",
        "\n",
        "# Uses 'l2' to discourage being classified as random\n",
        "def fitnessDenoised(targetClass, individual, population):\n",
        "    pen = getDenoisedPen(individual)\n",
        "    return fitness(targetClass, individual, population) - l2*pen\n",
        "\n",
        "# Fitness Sharing using l3 and alpha\n",
        "def fitnessSharing(targetClass, individual, population):\n",
        "    f = fitnessDenoised(targetClass, individual, population)\n",
        "    totalSharingFunc = 0\n",
        "\n",
        "    # Calculate penalty, it should be aprox. = the number of individuals in radius\n",
        "    for ind in population:\n",
        "        dist = np.linalg.norm(individual - ind)\n",
        "        if(dist < l3):\n",
        "            # For every individual in the radius, there is a penalty between 0 and 1 (depending on distance)\n",
        "            totalSharingFunc += 1 - np.power(dist / l3, alpha)\n",
        "\n",
        "    return f / totalSharingFunc\n",
        "\n",
        "# tournament selection, winner is max fitness\n",
        "def select(population, fitnesses):\n",
        "    parents = np.zeros((numParents, population.shape[1]))\n",
        "    for i in range(len(parents)):\n",
        "        tournamentIndices = np.random.choice(range(0, N), size=tournamentSizes, replace=False)\n",
        "        tournamentFitnesses = np.take(fitnesses, tournamentIndices)\n",
        "        winnerIndicesIndex = np.argmax(tournamentFitnesses)\n",
        "        winnerIndex = tournamentIndices[winnerIndicesIndex]\n",
        "        winner = population[winnerIndex]\n",
        "\n",
        "        parents[i] = winner\n",
        "\n",
        "    return parents\n",
        "\n",
        "# Helper for selectRoulette, chooses only one parent w.p proportional to fitness\n",
        "def selectOneRoulette(population, fitnesses):\n",
        "    s = np.sum(fitnesses)\n",
        "    p = np.random.rand() * s\n",
        "    total = 0\n",
        "    for i in range(0, N):\n",
        "        total += fitnesses[i]\n",
        "        if(total > p):\n",
        "            return population[i]\n",
        "    return -1\n",
        "\n",
        "# Selects numParent parents\n",
        "def selectRoulette(population, fitnesses):\n",
        "    parents = np.zeros((numParents, population.shape[1]))\n",
        "    for i in range(0, numParents):\n",
        "        parents[i] = selectOneRoulette(population, fitnesses)\n",
        "\n",
        "    return parents"
      ]
    },
    {
      "cell_type": "markdown",
      "id": "8e8e4393-f505-4173-9dac-9ae14c8b4202",
      "metadata": {
        "id": "8e8e4393-f505-4173-9dac-9ae14c8b4202"
      },
      "source": [
        "Defines mutation and breeding function"
      ]
    },
    {
      "cell_type": "code",
      "execution_count": null,
      "id": "b49dff65-b8c4-4eb6-8870-1c0ffe9a1a42",
      "metadata": {
        "id": "b49dff65-b8c4-4eb6-8870-1c0ffe9a1a42"
      },
      "outputs": [],
      "source": [
        "# if chosen, allele goes uniform random in correct range\n",
        "def mutate(individual):\n",
        "    for i in range(0, len(individual)):\n",
        "        if(np.random.rand() <= mutationRate):\n",
        "            individual[i] = np.random.uniform(mins[i], maxs[i])\n",
        "    return individual\n",
        "\n",
        "# one point crossover\n",
        "def breed(parents):\n",
        "    offspring = np.zeros((N, parents.shape[1]))\n",
        "    for i in range(0, N):\n",
        "        currentParents = np.random.default_rng().choice(parents, size=2, replace=False)\n",
        "        crossoverPoint = np.random.randint(0, parents.shape[1]) # This index will take the 2nd parents allele\n",
        "\n",
        "        childLeft = np.take(currentParents[0], range(0, crossoverPoint))\n",
        "        childRight = np.take(currentParents[1], range(crossoverPoint, parents.shape[1]))\n",
        "\n",
        "        child = np.concatenate((childLeft, childRight), axis=None)\n",
        "        offspring[i] = mutate(child)\n",
        "\n",
        "    return offspring"
      ]
    },
    {
      "cell_type": "code",
      "source": [
        "# For printing\n",
        "def showImage(ind, save=\"\"):\n",
        "    if(usingAutoenc):\n",
        "        decodedIm = np.array(tfDecoder(ind.reshape(1, 64))).reshape((sideLength, sideLength))\n",
        "        plt.imshow(decodedIm, cmap='Greys', interpolation='nearest')\n",
        "    else:\n",
        "        plt.imshow(ind.reshape((sideLength, sideLength)), cmap='Greys', interpolation='nearest')\n",
        "\n",
        "    plt.tight_layout()\n",
        "    plt.axis(\"off\")\n",
        "\n",
        "    if(save == \"\"):\n",
        "        plt.show()\n",
        "    else:\n",
        "        plt.savefig(save)\n",
        "\n"
      ],
      "metadata": {
        "id": "ELNTESX7bFJj"
      },
      "id": "ELNTESX7bFJj",
      "execution_count": null,
      "outputs": []
    },
    {
      "cell_type": "markdown",
      "id": "b6cbcda5-6011-4e12-bc50-7ef69903bc4f",
      "metadata": {
        "id": "b6cbcda5-6011-4e12-bc50-7ef69903bc4f"
      },
      "source": [
        "### The Genetic Search"
      ]
    },
    {
      "cell_type": "code",
      "execution_count": null,
      "id": "6a48fd6c-a59d-4edb-ba5c-f4dacc7d1474",
      "metadata": {
        "id": "6a48fd6c-a59d-4edb-ba5c-f4dacc7d1474"
      },
      "outputs": [],
      "source": [
        "# Target class is the class we are optimizing our inputs to fit\n",
        "# targetClass = -1 indicates y is 1D and a target class has already been chosen\n",
        "def runGA(targetClass=-1, logging=False, printing=True):\n",
        "    # For Plots\n",
        "    genLog = []\n",
        "    fitnessLog = []\n",
        "    distLog = []\n",
        "    noiseLog = []\n",
        "\n",
        "    # Returns best individual\n",
        "    bestInd = []\n",
        "    bestFitness = -1\n",
        "\n",
        "    population = init_population(N, targetClass)\n",
        "    for gen in range(0, maxGenerations):\n",
        "        # evalute fitness\n",
        "        fitnesses = list(map(lambda ind: fitnessDenoised(targetClass, ind, population), population))\n",
        "\n",
        "        # Find best individual\n",
        "        maxFitness = np.max(fitnesses)\n",
        "        bestInd = population[np.argmax(fitnesses)]\n",
        "\n",
        "        # check if we're done\n",
        "        if(doingFitnessCuttoff and maxFitness >= fitnessCuttoff):\n",
        "            if(printing):\n",
        "                print(\"generation: \"+str(gen)+\n",
        "                      \", max fitness: \"+str(maxFitness))\n",
        "                if(dataset == \"mnist\" or dataset == \"fashionMnist\"):\n",
        "                    showImage(bestInd)\n",
        "                elif(dataset == \"iris\"):\n",
        "                    print(bestInd)\n",
        "            break\n",
        "\n",
        "        # logging for plots\n",
        "        if(logging):\n",
        "            genLog.append(gen)\n",
        "            fitnessLog.append(maxFitness)\n",
        "            distLog.append(np.linalg.norm(bestInd - ave[targetClass]))\n",
        "            if(not dataset == \"iris\"):\n",
        "                noiseLog.append(getDenoisedPen(bestInd))\n",
        "\n",
        "        # Printing\n",
        "        if(printing and gen % 10 == 0):\n",
        "            print(\"generation: \"+str(gen)+\n",
        "                  \", max fitness: \"+str(maxFitness))\n",
        "\n",
        "            if(gen % 50 == 0):\n",
        "                if(dataset == \"mnist\" or dataset == \"fashionMnist\"):\n",
        "                    showImage(bestInd)\n",
        "                elif(dataset == \"iris\"):\n",
        "                    print(bestInd)\n",
        "\n",
        "        # update population\n",
        "        parents = select(population, fitnesses)\n",
        "        offspring = breed(parents)\n",
        "        population = offspring\n",
        "    return (genLog, fitnessLog, distLog, noiseLog, population, fitnesses)"
      ]
    },
    {
      "cell_type": "code",
      "execution_count": null,
      "id": "fe5f3601-8ab0-4245-9689-90c81958f786",
      "metadata": {
        "colab": {
          "base_uri": "https://localhost:8080/",
          "height": 1000
        },
        "id": "fe5f3601-8ab0-4245-9689-90c81958f786",
        "outputId": "93cd79a2-0f3a-4ed3-e77c-16e268b06d61"
      },
      "outputs": [
        {
          "output_type": "stream",
          "name": "stdout",
          "text": [
            "generation: 0, max fitness: 0.22178665006160736\n"
          ]
        },
        {
          "output_type": "display_data",
          "data": {
            "text/plain": [
              "<Figure size 640x480 with 1 Axes>"
            ],
            "image/png": "[encoded data removed]"
          },
          "metadata": {}
        },
        {
          "output_type": "stream",
          "name": "stdout",
          "text": [
            "generation: 10, max fitness: 0.9989527931213379\n",
            "generation: 20, max fitness: 0.999\n",
            "generation: 30, max fitness: 0.999\n",
            "generation: 40, max fitness: 0.999\n",
            "generation: 50, max fitness: 0.999\n"
          ]
        },
        {
          "output_type": "display_data",
          "data": {
            "text/plain": [
              "<Figure size 640x480 with 1 Axes>"
            ],
            "image/png": "[encoded data removed]"
          },
          "metadata": {}
        },
        {
          "output_type": "stream",
          "name": "stdout",
          "text": [
            "generation: 60, max fitness: 0.999\n",
            "generation: 70, max fitness: 0.999\n",
            "generation: 80, max fitness: 0.999\n",
            "generation: 90, max fitness: 0.999\n",
            "generation: 100, max fitness: 0.999\n"
          ]
        },
        {
          "output_type": "display_data",
          "data": {
            "text/plain": [
              "<Figure size 640x480 with 1 Axes>"
            ],
            "image/png": "[encoded data removed]"
          },
          "metadata": {}
        },
        {
          "output_type": "stream",
          "name": "stdout",
          "text": [
            "generation: 110, max fitness: 0.999\n",
            "generation: 120, max fitness: 0.999\n",
            "generation: 130, max fitness: 0.999\n",
            "generation: 140, max fitness: 0.999\n",
            "generation: 150, max fitness: 0.999\n"
          ]
        },
        {
          "output_type": "display_data",
          "data": {
            "text/plain": [
              "<Figure size 640x480 with 1 Axes>"
            ],
            "image/png": "[encoded data removed]"
          },
          "metadata": {}
        },
        {
          "output_type": "stream",
          "name": "stdout",
          "text": [
            "generation: 160, max fitness: 0.999\n",
            "generation: 170, max fitness: 0.999\n",
            "generation: 180, max fitness: 0.999\n",
            "generation: 190, max fitness: 0.999\n",
            "generation: 200, max fitness: 0.999\n"
          ]
        },
        {
          "output_type": "display_data",
          "data": {
            "text/plain": [
              "<Figure size 640x480 with 1 Axes>"
            ],
            "image/png": "[encoded data removed]"
          },
          "metadata": {}
        },
        {
          "output_type": "stream",
          "name": "stdout",
          "text": [
            "generation: 209, max fitness: 1.0\n"
          ]
        },
        {
          "output_type": "display_data",
          "data": {
            "text/plain": [
              "<Figure size 640x480 with 1 Axes>"
            ],
            "image/png": "[encoded data removed]"
          },
          "metadata": {}
        }
      ],
      "source": [
        "genLog, fitnessLog, distLog, noiseLog, population, fitnesses = runGA(targetClass = 0, logging=True)"
      ]
    },
    {
      "cell_type": "markdown",
      "id": "0c5c70ae-d012-498a-9a75-d949f8ddc446",
      "metadata": {
        "id": "0c5c70ae-d012-498a-9a75-d949f8ddc446"
      },
      "source": [
        "# Plots and Outputs"
      ]
    },
    {
      "cell_type": "code",
      "execution_count": null,
      "id": "cb6cfd48-5f50-4a79-89a3-628e8b1066fc",
      "metadata": {
        "id": "cb6cfd48-5f50-4a79-89a3-628e8b1066fc"
      },
      "outputs": [],
      "source": [
        "distCuttoff = 10 # l3\n",
        "protosPerClass = 1\n",
        "\n",
        "def getBestInd(population, fitnesses):\n",
        "    return population[np.argmax(fitnesses)]\n",
        "\n",
        "def getAllInds(population, fitnesses):\n",
        "    bestInds = []\n",
        "    farPopulation = population.tolist()\n",
        "    farFitnesses = fitnesses.copy()\n",
        "\n",
        "    # Loop while theres still some candidates and we still need more protos\n",
        "    while(len(farPopulation) > 0 and len(bestInds) < protosPerClass):\n",
        "        # Log best individual\n",
        "        newBest = np.array(getBestInd(farPopulation, farFitnesses))\n",
        "        bestInds.append(newBest)\n",
        "\n",
        "        # remove everyone within the cuttoff (loop backwards)\n",
        "        for i in range(len(farPopulation)-1, -1, -1):\n",
        "            if(np.linalg.norm(newBest - population[i]) < distCuttoff):\n",
        "                farPopulation.pop(i)\n",
        "                farFitnesses.pop(i)\n",
        "\n",
        "    return bestInds"
      ]
    },
    {
      "cell_type": "code",
      "execution_count": null,
      "id": "b805affb-8976-40b2-bec5-0f5ee6d7523f",
      "metadata": {
        "colab": {
          "base_uri": "https://localhost:8080/",
          "height": 498
        },
        "id": "b805affb-8976-40b2-bec5-0f5ee6d7523f",
        "outputId": "f790bcc2-6b89-4059-a508-acf6a736c263"
      },
      "outputs": [
        {
          "output_type": "stream",
          "name": "stdout",
          "text": [
            "1.0\n",
            "1.0\n"
          ]
        },
        {
          "output_type": "display_data",
          "data": {
            "text/plain": [
              "<Figure size 640x480 with 1 Axes>"
            ],
            "image/png": "[encoded data removed]"
          },
          "metadata": {}
        }
      ],
      "source": [
        "allInds = getAllInds(population, fitnesses)\n",
        "\n",
        "print(fitness(0, allInds[0], None))\n",
        "print(fitnessDenoised(0, allInds[0], None))\n",
        "\n",
        "for i in range(0, len(allInds)):\n",
        "    # Show best\n",
        "    showImage(allInds[i])#, save=\"drive/MyDrive/ISP_datasets/DF_0.png\")"
      ]
    },
    {
      "cell_type": "code",
      "source": [
        "def saveSingleProto(allInds):\n",
        "    protoFile = open(\"drive/MyDrive/ISP_datasets/fashionDFProto.txt\", \"w\")\n",
        "    protoFile.write(str(list(allInds[0])))\n",
        "    protoFile.close()\n",
        "\n",
        "#saveSingleProto(allInds)"
      ],
      "metadata": {
        "id": "Lmfa6kSVOrBf"
      },
      "id": "Lmfa6kSVOrBf",
      "execution_count": null,
      "outputs": []
    },
    {
      "cell_type": "code",
      "execution_count": null,
      "id": "b0cdef88-ff20-4f2d-8afd-5dbe93911d30",
      "metadata": {
        "scrolled": true,
        "id": "b0cdef88-ff20-4f2d-8afd-5dbe93911d30",
        "outputId": "a591fba2-b641-437c-8dd9-d854d973821d",
        "colab": {
          "base_uri": "https://localhost:8080/",
          "height": 451
        }
      },
      "outputs": [
        {
          "output_type": "display_data",
          "data": {
            "text/plain": [
              "<Figure size 640x480 with 2 Axes>"
            ],
            "image/png": "[encoded data removed]"
          },
          "metadata": {}
        }
      ],
      "source": [
        "# Regularise\n",
        "distLog = distLog / np.max(distLog)\n",
        "noiseLog = noiseLog / np.max(noiseLog)\n",
        "\n",
        "# Plot fitness curve\n",
        "fig, ax1 = plt.subplots(figsize=(8, 6), dpi=80)\n",
        "\n",
        "ax1.plot(genLog, fitnessLog, label=\"Max Fitness\")\n",
        "#ax1.plot(genLog, distLog, label=\"Distance from mean\")\n",
        "plt.plot(genLog, noiseLog, label=\"Noise Level\")\n",
        "ax1.set_xlabel(\"Generation\")\n",
        "ax1.set_ylabel(\"Fitness\")\n",
        "ax1.legend()\n",
        "ax1.set_title(\"Fitness Curve and Noise Level for Genetic Search\")\n",
        "#ax1.set_xticks([i for i in range(0, 5)])\n",
        "\n",
        "ax2 = ax1.twinx()\n",
        "ax2.set_ylabel(\"Noise Level\")\n",
        "#plt.savefig(\"drive/MyDrive/ISP_datasets/DF_Fitness_Curve.png\")"
      ]
    },
    {
      "cell_type": "code",
      "source": [
        "showImage(ave[0], save=\"drive/MyDrive/ISP_datasets/fashion_mean_0.png\")\n"
      ],
      "metadata": {
        "colab": {
          "base_uri": "https://localhost:8080/",
          "height": 463
        },
        "id": "icFDl3E-XDiV",
        "outputId": "ded52f27-b2d2-44b9-a260-a87a0ed7d8ff"
      },
      "id": "icFDl3E-XDiV",
      "execution_count": null,
      "outputs": [
        {
          "output_type": "display_data",
          "data": {
            "text/plain": [
              "<Figure size 640x480 with 1 Axes>"
            ],
            "image/png": "[encoded data removed]"
          },
          "metadata": {}
        }
      ]
    },
    {
      "cell_type": "markdown",
      "id": "280e6f40-b9a0-446d-ad7b-48d96fd6db60",
      "metadata": {
        "id": "280e6f40-b9a0-446d-ad7b-48d96fd6db60"
      },
      "source": [
        "# Getting Prototypes from GA"
      ]
    },
    {
      "cell_type": "markdown",
      "id": "f17f7c21-cf15-467c-83bd-447a6a91f96f",
      "metadata": {
        "id": "f17f7c21-cf15-467c-83bd-447a6a91f96f"
      },
      "source": [
        "### GA Prototypes"
      ]
    },
    {
      "cell_type": "code",
      "execution_count": null,
      "id": "bbc7b894-48af-453e-b554-4cd042779946",
      "metadata": {
        "id": "bbc7b894-48af-453e-b554-4cd042779946"
      },
      "outputs": [],
      "source": [
        "def getGAPrototypes():\n",
        "    # Run over unique y values\n",
        "    prototypes = [None for _ in range(0, numClasses)]\n",
        "    for c in np.unique(y_tr, axis=0):\n",
        "        # Extract the class\n",
        "        targetClass = np.where(c == 1)[0][0]\n",
        "\n",
        "        # Run GA\n",
        "        genLog, fitnessLog, distLog, noiseLog, population, fitnesses = runGA(targetClass = targetClass, logging=False)\n",
        "\n",
        "        # Get and log best individual(s)\n",
        "        bestInds = getAllInds(population, fitnesses)\n",
        "        prototypes[targetClass] = bestInds\n",
        "\n",
        "        print(targetClass)\n",
        "\n",
        "    return prototypes"
      ]
    },
    {
      "cell_type": "markdown",
      "id": "74b4a673-4d70-4d30-8c61-e41a384800bb",
      "metadata": {
        "id": "74b4a673-4d70-4d30-8c61-e41a384800bb"
      },
      "source": [
        "### Random Prototypes"
      ]
    },
    {
      "cell_type": "code",
      "execution_count": null,
      "id": "1e32a108-dfa6-4aa9-98be-ff08fbb2fc5a",
      "metadata": {
        "id": "1e32a108-dfa6-4aa9-98be-ff08fbb2fc5a"
      },
      "outputs": [],
      "source": [
        "def getRandPrototypes():\n",
        "    # shuffle data\n",
        "    indices = np.arange(len(X_tr))\n",
        "    np.random.shuffle(indices)\n",
        "    data = X_tr[indices]\n",
        "    targets = y_tr[indices]\n",
        "\n",
        "    # Select random examples from each class\n",
        "    randPrototypes = [[] for _ in range(0, numClasses)]\n",
        "\n",
        "    # Initialize dictionary storing num occurences of each y which are logged\n",
        "    usedYCounts = {}\n",
        "    for i in range(0, len(np.unique(targets, axis=0))):\n",
        "        usedYCounts[i] = 0\n",
        "\n",
        "    # Loop through training data\n",
        "    for i, datapoint in enumerate(data):\n",
        "        # If we need the current y\n",
        "        currentY = np.where(targets[i] == 1)[0][0]\n",
        "        currentYCount = usedYCounts[currentY]\n",
        "        if(currentYCount < protosPerClass):\n",
        "            usedYCounts[currentY] += 1\n",
        "\n",
        "            # log the datapoint\n",
        "            randPrototypes[currentY].append(datapoint)\n",
        "\n",
        "    return randPrototypes"
      ]
    },
    {
      "cell_type": "markdown",
      "id": "bc962d60-b89a-4514-a328-8602f6befeee",
      "metadata": {
        "id": "bc962d60-b89a-4514-a328-8602f6befeee"
      },
      "source": [
        "### Mean Prototypes"
      ]
    },
    {
      "cell_type": "code",
      "execution_count": null,
      "id": "618c550a-8ab5-434a-948e-aa69603690dc",
      "metadata": {
        "id": "618c550a-8ab5-434a-948e-aa69603690dc"
      },
      "outputs": [],
      "source": [
        "def getMeanPrototypes():\n",
        "    meanPrototypes = [[] for _ in range(0, numClasses)]\n",
        "    for i, average in enumerate(ave):\n",
        "        for _ in range(0, protosPerClass):\n",
        "            meanPrototypes[i].append(average)\n",
        "\n",
        "    return meanPrototypes"
      ]
    },
    {
      "cell_type": "markdown",
      "id": "9e7e6c6a-29f7-42f0-aab1-afa0f14359ce",
      "metadata": {
        "id": "9e7e6c6a-29f7-42f0-aab1-afa0f14359ce"
      },
      "source": [
        "## Repeat Prototype Generation\n",
        "\n",
        "We will repeat all three methods of prototype generation for different random seeds = [0, 1, 2, ...].\n",
        "\n",
        "The results will be stored in CSV files."
      ]
    },
    {
      "cell_type": "code",
      "execution_count": null,
      "id": "9f1e0c3c-6e67-4b54-a2c4-46a6f35f3362",
      "metadata": {
        "id": "9f1e0c3c-6e67-4b54-a2c4-46a6f35f3362"
      },
      "outputs": [],
      "source": [
        "def protosToFile(file, protos, rep):\n",
        "    # Loop through each mnist number\n",
        "    for i, protoList in enumerate(protos):\n",
        "\n",
        "        # Loop through proto of that number\n",
        "        for j, proto in enumerate(protoList):\n",
        "            file.write(str(rep)+\"|\"+str(i)+\"|\"+str(proto.tolist())+\"\\n\")\n",
        "\n",
        "gaFile = open(\"protos/gaProtos.csv\", \"w\")\n",
        "gaFile.write(\"repetition|number|prototype\\n\")\n",
        "gaFile.close()\n",
        "gaFile = open(\"protos/gaProtos.csv\", \"a\")\n",
        "\n",
        "randFile = open(\"protos/randProtos.csv\", \"w\")\n",
        "randFile.write(\"repetition|number|proto\\n\")\n",
        "randFile.close()\n",
        "randFile = open(\"protos/randProtos.csv\", \"a\")\n",
        "\n",
        "meanFile = open(\"protos/meanProtos.csv\", \"w\")\n",
        "meanFile.write(\"repetition|number|proto\\n\")\n",
        "meanFile.close()\n",
        "meanFile = open(\"protos/meanProtos.csv\", \"a\")"
      ]
    },
    {
      "cell_type": "code",
      "execution_count": null,
      "id": "6ad730f8-1ef8-4a64-ad53-5a10d48ac24c",
      "metadata": {
        "id": "6ad730f8-1ef8-4a64-ad53-5a10d48ac24c",
        "outputId": "f685057f-b21a-41d7-f6f5-3bfd95a8db6d"
      },
      "outputs": [
        {
          "name": "stdout",
          "output_type": "stream",
          "text": [
            "REP: 0\n",
            "9\n",
            "8\n",
            "7\n",
            "6\n",
            "5\n",
            "4\n",
            "3\n",
            "2\n",
            "1\n",
            "0\n",
            "REP: 1\n",
            "9\n",
            "8\n",
            "7\n",
            "6\n",
            "5\n",
            "4\n",
            "3\n",
            "2\n",
            "1\n",
            "0\n"
          ]
        }
      ],
      "source": [
        "repetitions = 2\n",
        "\n",
        "for i in range(0, repetitions):\n",
        "    print(\"REP: \"+str(i))\n",
        "\n",
        "    np.random.seed(i)\n",
        "    random.seed(i)\n",
        "\n",
        "    gaProtos = getGAPrototypes()\n",
        "    protosToFile(gaFile, gaProtos, i)\n",
        "\n",
        "    randProtos = getRandPrototypes()\n",
        "    protosToFile(randFile, randProtos, i)\n",
        "\n",
        "    meanProtos = getMeanPrototypes()\n",
        "    protosToFile(meanFile, meanProtos, i)\n",
        "\n",
        "gaFile.close()\n",
        "randFile.close()\n",
        "meanFile.close()"
      ]
    },
    {
      "cell_type": "markdown",
      "id": "65500ad9-4c95-45da-b321-797cb8f979ca",
      "metadata": {
        "id": "65500ad9-4c95-45da-b321-797cb8f979ca"
      },
      "source": [
        "# Results\n",
        "\n",
        "Read off these prototypes from their file and output some diagrams"
      ]
    },
    {
      "cell_type": "code",
      "execution_count": null,
      "id": "d51ba8a8-8fd2-4517-8579-d049a52cb8c5",
      "metadata": {
        "id": "d51ba8a8-8fd2-4517-8579-d049a52cb8c5"
      },
      "outputs": [],
      "source": [
        "def getProtosFromFile(filename):\n",
        "    # Extract data from file\n",
        "    file = open(\"drive/MyDrive/ISP_datasets/protos/\"+filename+\".csv\", \"r\")\n",
        "    fileStr = file.read()\n",
        "    file.close()\n",
        "    lines = fileStr.split(\"\\n\")\n",
        "    lines.pop(0)\n",
        "    lines.pop(len(lines)-1)\n",
        "\n",
        "    # Find num repetitions\n",
        "    numReps = int(lines[len(lines) - 1].split(\"|\")[0]) + 1\n",
        "\n",
        "    # Loop through repetitions\n",
        "    lineNum = 0\n",
        "    ans = []\n",
        "    for i in range(0, numReps):\n",
        "        # Create empty set (list of 10 empty lists)\n",
        "        set = [[] for _ in range(0, 10)]\n",
        "\n",
        "        # Loop through every line in that rep\n",
        "        while(lineNum < len(lines) and int(lines[lineNum].split(\"|\")[0]) == i):\n",
        "            l = lines[lineNum].split(\"|\")\n",
        "            rep = int(l[0])\n",
        "\n",
        "            # Record proto in set\n",
        "            number = int(l[1])\n",
        "            proto = ast.literal_eval(l[2])\n",
        "            set[number].append(proto)\n",
        "\n",
        "            # increment\n",
        "            lineNum += 1\n",
        "\n",
        "        ans.append(set)\n",
        "    return ans\n",
        "\n",
        "def showProtos(protos):\n",
        "    # Loop through sets\n",
        "    for rep, set in enumerate(protos):\n",
        "        # get max rows for figure\n",
        "        maxRows = max(list(map(lambda l: len(l), set)))\n",
        "\n",
        "        print(\"repetition: \"+str(rep))\n",
        "        fig, axs = plt.subplots(maxRows, 10)\n",
        "        if(maxRows == 1):\n",
        "            axs = [axs]\n",
        "        plt.rcParams[\"figure.figsize\"] = [10, maxRows]\n",
        "\n",
        "        # Go through each 'round' of the set\n",
        "        for round in range(0, maxRows):\n",
        "\n",
        "            # Go through each proto\n",
        "            for i in range(0, numClasses):\n",
        "                if(round < len(set[i])):\n",
        "                    proto = set[i][round]\n",
        "                    axs[round][i].imshow(np.array(proto).reshape((8, 8)), cmap='grey', interpolation='nearest')\n",
        "                    axs[round][i].axis(\"off\")\n",
        "                else:\n",
        "                    axs[round][i].axis(\"off\")\n",
        "\n",
        "        plt.show()\n",
        "        #fig.savefig(filename+\".png\")"
      ]
    },
    {
      "cell_type": "markdown",
      "id": "988dcce4-11ab-4043-bba3-c8a7c3ab007d",
      "metadata": {
        "id": "988dcce4-11ab-4043-bba3-c8a7c3ab007d"
      },
      "source": [
        "### GA Prototypes"
      ]
    },
    {
      "cell_type": "code",
      "execution_count": null,
      "id": "31097ef6-fc77-4959-aadf-03efeba08681",
      "metadata": {
        "id": "31097ef6-fc77-4959-aadf-03efeba08681",
        "outputId": "c4f8d3ee-7116-47bf-e739-e318f8fd249b"
      },
      "outputs": [
        {
          "name": "stdout",
          "output_type": "stream",
          "text": [
            "repetition: 0\n"
          ]
        },
        {
          "data": {
            "image/png": "[encoded data removed]",
            "text/plain": [
              "<Figure size 1000x300 with 30 Axes>"
            ]
          },
          "metadata": {},
          "output_type": "display_data"
        },
        {
          "name": "stdout",
          "output_type": "stream",
          "text": [
            "repetition: 1\n"
          ]
        },
        {
          "data": {
            "image/png": "[encoded data removed]",
            "text/plain": [
              "<Figure size 1000x300 with 30 Axes>"
            ]
          },
          "metadata": {},
          "output_type": "display_data"
        }
      ],
      "source": [
        "gaProtos = getProtosFromFile(\"gaProtos\")\n",
        "showProtos(gaProtos)"
      ]
    },
    {
      "cell_type": "markdown",
      "id": "f09a1705-486f-4b31-b797-758bd07e2d93",
      "metadata": {
        "id": "f09a1705-486f-4b31-b797-758bd07e2d93"
      },
      "source": [
        "### Random Prototypes"
      ]
    },
    {
      "cell_type": "code",
      "execution_count": null,
      "id": "ad843619-9748-47b6-b5ca-cf7e22a43354",
      "metadata": {
        "id": "ad843619-9748-47b6-b5ca-cf7e22a43354",
        "outputId": "8b1a8ae8-e674-4a4e-83f6-d676a136fd09"
      },
      "outputs": [
        {
          "name": "stdout",
          "output_type": "stream",
          "text": [
            "repetition: 0\n"
          ]
        },
        {
          "data": {
            "image/png": "[encoded data removed]",
            "text/plain": [
              "<Figure size 1000x300 with 30 Axes>"
            ]
          },
          "metadata": {},
          "output_type": "display_data"
        },
        {
          "name": "stdout",
          "output_type": "stream",
          "text": [
            "repetition: 1\n"
          ]
        },
        {
          "data": {
            "image/png": "[encoded data removed]",
            "text/plain": [
              "<Figure size 1000x300 with 30 Axes>"
            ]
          },
          "metadata": {},
          "output_type": "display_data"
        }
      ],
      "source": [
        "randProtos = getProtosFromFile(\"randProtos\")\n",
        "showProtos(randProtos)"
      ]
    },
    {
      "cell_type": "markdown",
      "id": "b625b930-a392-4baf-8396-c1aa4bfeb1f3",
      "metadata": {
        "id": "b625b930-a392-4baf-8396-c1aa4bfeb1f3"
      },
      "source": [
        "### Mean Prototypes"
      ]
    },
    {
      "cell_type": "code",
      "execution_count": null,
      "id": "f8d9485d-a572-479d-857c-28df223a8536",
      "metadata": {
        "id": "f8d9485d-a572-479d-857c-28df223a8536",
        "outputId": "278c1c60-9cf8-463f-8a99-a7ff284784ab"
      },
      "outputs": [
        {
          "name": "stdout",
          "output_type": "stream",
          "text": [
            "repetition: 0\n"
          ]
        },
        {
          "data": {
            "image/png": "[encoded data removed]",
            "text/plain": [
              "<Figure size 1000x300 with 30 Axes>"
            ]
          },
          "metadata": {},
          "output_type": "display_data"
        },
        {
          "name": "stdout",
          "output_type": "stream",
          "text": [
            "repetition: 1\n"
          ]
        },
        {
          "data": {
            "image/png": "[encoded data removed]",
            "text/plain": [
              "<Figure size 1000x300 with 30 Axes>"
            ]
          },
          "metadata": {},
          "output_type": "display_data"
        }
      ],
      "source": [
        "meanProtos = getProtosFromFile(\"meanProtos\")\n",
        "showProtos(meanProtos)"
      ]
    },
    {
      "cell_type": "markdown",
      "id": "23a841d4-dd19-41c5-bbec-cc72629b7c1a",
      "metadata": {
        "id": "23a841d4-dd19-41c5-bbec-cc72629b7c1a"
      },
      "source": [
        "# Evaluation\n",
        "\n",
        "I evaluate these prototypes based on there accuracy classifing the test set using nearest neighbours.\n",
        "\n",
        "I will compare this accuracy to the accuracy on two control models, one where the prototypes are randomly selected from their class, and one where they are the average."
      ]
    },
    {
      "cell_type": "code",
      "execution_count": null,
      "id": "239914ee-78d8-4f17-b692-dfcc21a04d1f",
      "metadata": {
        "id": "239914ee-78d8-4f17-b692-dfcc21a04d1f"
      },
      "outputs": [],
      "source": [
        "if(oneHotEncode):\n",
        "    # Undo one hot encoding\n",
        "    y_tr_old = list(map(lambda ohe: np.where(ohe == 1)[0][0], y_tr))\n",
        "    y_test_old = list(map(lambda ohe: np.where(ohe == 1)[0][0], y_test))"
      ]
    },
    {
      "cell_type": "code",
      "execution_count": null,
      "id": "1d1c57ef-3d6f-4ebf-a455-0c840c9b1a41",
      "metadata": {
        "id": "1d1c57ef-3d6f-4ebf-a455-0c840c9b1a41"
      },
      "outputs": [],
      "source": [
        "def evaluateProtos(protos):\n",
        "    repetitions = 2\n",
        "    accuracies = np.zeros(repetitions)\n",
        "    for i in range(0, repetitions):\n",
        "        # Train and evaluate\n",
        "        nn = KNeighborsClassifier(n_neighbors=1).fit(protos[i], range(10))\n",
        "        accuracy = nn.score(X_test, y_test_old)\n",
        "        accuracies[i] = accuracy\n",
        "\n",
        "    return accuracies"
      ]
    },
    {
      "cell_type": "markdown",
      "id": "de511800-bbc5-4108-9e09-977a6793f8c1",
      "metadata": {
        "id": "de511800-bbc5-4108-9e09-977a6793f8c1"
      },
      "source": [
        "### GA Prototypes"
      ]
    },
    {
      "cell_type": "code",
      "execution_count": null,
      "id": "5dcb4635-66cb-41ef-a081-3021fd96860b",
      "metadata": {
        "id": "5dcb4635-66cb-41ef-a081-3021fd96860b",
        "outputId": "2e847319-e135-4f2a-9c04-47e8887dc41c"
      },
      "outputs": [
        {
          "name": "stdout",
          "output_type": "stream",
          "text": [
            "Nearest neighbour on GA prototypes mean accuracy: 0.7222222222222222\n",
            "Nearest neighbour on GA prototypes accuracy variance: 0.00012345679012345593\n"
          ]
        }
      ],
      "source": [
        "gaAccuracies = evaluateProtos(gaProtos)\n",
        "\n",
        "print(\"Nearest neighbour on GA prototypes mean accuracy: \"+str(np.mean(gaAccuracies)))\n",
        "print(\"Nearest neighbour on GA prototypes accuracy variance: \"+str(np.var(gaAccuracies)))"
      ]
    },
    {
      "cell_type": "markdown",
      "id": "fb87e4fa-91b2-4f9c-9c26-abe2fc7fe4d2",
      "metadata": {
        "id": "fb87e4fa-91b2-4f9c-9c26-abe2fc7fe4d2"
      },
      "source": [
        "### Random Prototypes"
      ]
    },
    {
      "cell_type": "code",
      "execution_count": null,
      "id": "56e2e2ae-5d41-4725-b0af-8abdf52b9d0f",
      "metadata": {
        "id": "56e2e2ae-5d41-4725-b0af-8abdf52b9d0f",
        "outputId": "c5df8495-a8c1-4aaa-da81-2102d61a3e0b"
      },
      "outputs": [
        {
          "name": "stdout",
          "output_type": "stream",
          "text": [
            "Nearest neighbour on random prototypes mean accuracy: 0.6444444444444444\n",
            "Nearest neighbour on random prototypes accuracy variance: 0.0004938271604938262\n"
          ]
        }
      ],
      "source": [
        "randAccuracies = evaluateProtos(randProtos)\n",
        "\n",
        "print(\"Nearest neighbour on random prototypes mean accuracy: \"+str(np.mean(randAccuracies)))\n",
        "print(\"Nearest neighbour on random prototypes accuracy variance: \"+str(np.var(randAccuracies)))"
      ]
    },
    {
      "cell_type": "markdown",
      "id": "d06bb453-62cb-4a46-a6ab-b8726ef0890c",
      "metadata": {
        "id": "d06bb453-62cb-4a46-a6ab-b8726ef0890c"
      },
      "source": [
        "### Mean Prototypes"
      ]
    },
    {
      "cell_type": "code",
      "execution_count": null,
      "id": "7af98c24-2270-4c81-bd1b-a414fa116714",
      "metadata": {
        "id": "7af98c24-2270-4c81-bd1b-a414fa116714",
        "outputId": "4fd7be6c-45a1-451d-8f2a-bd102d3447cc"
      },
      "outputs": [
        {
          "name": "stdout",
          "output_type": "stream",
          "text": [
            "Nearest neighbour on mean prototypes mean accuracy: 0.7\n",
            "Nearest neighbour on mean prototypes accuracy variance: 0.0\n"
          ]
        }
      ],
      "source": [
        "meanAccuracies = evaluateProtos(meanProtos)\n",
        "\n",
        "print(\"Nearest neighbour on mean prototypes mean accuracy: \"+str(np.mean(meanAccuracies)))\n",
        "print(\"Nearest neighbour on mean prototypes accuracy variance: \"+str(np.var(meanAccuracies)))"
      ]
    },
    {
      "cell_type": "markdown",
      "id": "a86e5a01-46a3-44f0-ade9-eda83e3197ad",
      "metadata": {
        "id": "a86e5a01-46a3-44f0-ade9-eda83e3197ad"
      },
      "source": [
        "### Evaluation Plot"
      ]
    },
    {
      "cell_type": "code",
      "execution_count": null,
      "id": "266552dc-2da9-439e-a98b-93b6255fc285",
      "metadata": {
        "id": "266552dc-2da9-439e-a98b-93b6255fc285",
        "outputId": "7e45944c-75f9-43dd-b9df-831099d416e1"
      },
      "outputs": [
        {
          "data": {
            "text/plain": [
              "Text(0.5, 1.0, 'GA Prototypes Accuracy as Nearest Neighbour Classifier vs Controls')"
            ]
          },
          "execution_count": 421,
          "metadata": {},
          "output_type": "execute_result"
        },
        {
          "data": {
            "image/png": "[encoded data removed]",
            "text/plain": [
              "<Figure size 320x320 with 1 Axes>"
            ]
          },
          "metadata": {},
          "output_type": "display_data"
        }
      ],
      "source": [
        "combinedData = np.concatenate((gaAccuracies.reshape((-1, 1)),\n",
        "                               randAccuracies.reshape((-1, 1)),\n",
        "                               meanAccuracies.reshape((-1, 1))), axis=1)\n",
        "\n",
        "plt.figure(figsize=(4, 4), dpi=80)\n",
        "plt.boxplot(combinedData, labels=[\"GA Prototypes\", \"Random\", \"Mean\"])\n",
        "plt.title(\"GA Prototypes Accuracy as Nearest Neighbour Classifier vs Controls\")"
      ]
    },
    {
      "cell_type": "markdown",
      "id": "8af61320-5a92-4295-9ebc-a9d9ed82f700",
      "metadata": {
        "id": "8af61320-5a92-4295-9ebc-a9d9ed82f700"
      },
      "source": [
        "# Exploration"
      ]
    },
    {
      "cell_type": "code",
      "execution_count": null,
      "id": "277405ea-d58a-45c9-816d-da28e0c62088",
      "metadata": {
        "id": "277405ea-d58a-45c9-816d-da28e0c62088",
        "outputId": "d5aa8140-cfe5-4352-dde4-dcf01839f273"
      },
      "outputs": [
        {
          "name": "stdout",
          "output_type": "stream",
          "text": [
            "6 and 8 were mistaken 6 times.\n",
            "5 and 7 were mistaken 3 times.\n",
            "4 and 6 were mistaken 5 times.\n",
            "5 and 6 were mistaken 1 times.\n",
            "8 and 9 were mistaken 2 times.\n",
            "4 and 8 were mistaken 4 times.\n",
            "2 and 3 were mistaken 2 times.\n",
            "6 and 9 were mistaken 4 times.\n",
            "1 and 6 were mistaken 4 times.\n",
            "1 and 2 were mistaken 2 times.\n",
            "3 and 6 were mistaken 2 times.\n",
            "1 and 3 were mistaken 3 times.\n",
            "2 and 7 were mistaken 1 times.\n",
            "4 and 7 were mistaken 1 times.\n",
            "7 and 9 were mistaken 1 times.\n",
            "5 and 9 were mistaken 1 times.\n",
            "0 and 2 were mistaken 1 times.\n",
            "3 and 8 were mistaken 1 times.\n",
            "1 and 9 were mistaken 2 times.\n",
            "2 and 6 were mistaken 1 times.\n",
            "6 and 7 were mistaken 1 times.\n"
          ]
        }
      ],
      "source": [
        "# Train and evaluate\n",
        "nnga = KNeighborsClassifier(n_neighbors=1).fit(gaProtos[0], range(10))\n",
        "predictions = nnga.predict(X_test)\n",
        "\n",
        "# Loop through predictions\n",
        "mistakes = {}\n",
        "for i, pred in enumerate(predictions):\n",
        "    # If it's wrong\n",
        "    if(not pred == y_test_old[i]):\n",
        "        # Create the mistake index\n",
        "        if(pred < y_test_old[i]):\n",
        "            index = str(pred)+str(y_test_old[i])\n",
        "        else:\n",
        "            index = str(y_test_old[i])+str(pred)\n",
        "\n",
        "        # Log the mistake\n",
        "        if(not index in mistakes):\n",
        "            mistakes[index] = 1\n",
        "        else:\n",
        "            mistakes[index] += 1\n",
        "\n",
        "# Output results\n",
        "for key in mistakes.keys():\n",
        "    print(key[0]+\" and \"+key[1]+\" were mistaken \"+str(mistakes[key])+\" times.\")"
      ]
    },
    {
      "cell_type": "markdown",
      "id": "d21ca6f7-a244-4640-841a-3af729cd6cfc",
      "metadata": {
        "id": "d21ca6f7-a244-4640-841a-3af729cd6cfc"
      },
      "source": [
        "### PCA Plot"
      ]
    },
    {
      "cell_type": "code",
      "execution_count": null,
      "id": "8afffefa-2554-4392-93ae-ffb56b491150",
      "metadata": {
        "id": "8afffefa-2554-4392-93ae-ffb56b491150"
      },
      "outputs": [],
      "source": [
        "# Reduce training data using PCA\n",
        "pca = PCA(random_state=randomSeed).fit(X_tr)\n",
        "reducedData = pca.transform(X_tr)"
      ]
    },
    {
      "cell_type": "code",
      "execution_count": null,
      "id": "635a1cc5-47f3-4d9b-93ac-fe9829376b98",
      "metadata": {
        "id": "635a1cc5-47f3-4d9b-93ac-fe9829376b98",
        "outputId": "c597a5ed-52c9-4c49-f342-35c3c503d6ef"
      },
      "outputs": [
        {
          "data": {
            "image/png": "[encoded data removed]",
            "text/plain": [
              "<Figure size 700x700 with 1 Axes>"
            ]
          },
          "metadata": {},
          "output_type": "display_data"
        }
      ],
      "source": [
        "# Group PCA reduced data into classes (so we can plot each class seperatley for legend)\n",
        "groupedReducedData = [[] for _ in range(0, numClasses)]\n",
        "for i, rd in enumerate(reducedData):\n",
        "    groupedReducedData[y_tr_old[i]].append(rd)\n",
        "\n",
        "# Plot each class seperatley (for legend)\n",
        "plt.rcParams[\"figure.figsize\"] = (7, 7)\n",
        "fig, axs = plt.subplots()\n",
        "cm = plt.get_cmap(\"viridis\")\n",
        "for i in range(0, numClasses):\n",
        "    data = groupedReducedData[i]\n",
        "    fpc = list(map(lambda x: x[0], data))\n",
        "    spc = list(map(lambda x: x[1], data))\n",
        "\n",
        "    if(i == 0):\n",
        "        axs.scatter(fpc, spc,\n",
        "                    c=[(i/9) for _ in range(0, len(data))],\n",
        "                    label=str(i),\n",
        "                    cmap=\"viridis\",\n",
        "                    edgecolors=\"black\",\n",
        "                    s=16, linewidth=0.5)\n",
        "    else:\n",
        "        axs.plot(fpc, spc,\n",
        "                 \".\", c=cm(i/9),\n",
        "                 label=str(i),\n",
        "                 markersize=8,\n",
        "                 markeredgecolor=\"black\",\n",
        "                 markeredgewidth=0.5)\n",
        "\n",
        "# Reduce prototypes using PCA\n",
        "reducedProtos = pca.transform(gaProtos[0])\n",
        "for i in range(0, numClasses):\n",
        "    axs.plot(reducedProtos[i][0], reducedProtos[i][1], \"^\", c=cm(i/9), markeredgecolor=\"black\", markersize=10)\n",
        "\n",
        "plt.legend()\n",
        "plt.xlabel(\"First Principle Component\")\n",
        "plt.ylabel(\"Second Principle Component\")\n",
        "plt.title(\"PCA Dimensionality Reduction on Training Set and Prototypes\")\n"
      ]
    }
  ],
  "metadata": {
    "kernelspec": {
      "display_name": "Python 3",
      "name": "python3"
    },
    "language_info": {
      "codemirror_mode": {
        "name": "ipython",
        "version": 3
      },
      "file_extension": ".py",
      "mimetype": "text/x-python",
      "name": "python",
      "nbconvert_exporter": "python",
      "pygments_lexer": "ipython3",
      "version": "3.11.7"
    },
    "colab": {
      "provenance": [],
      "toc_visible": true,
      "include_colab_link": true
    }
  },
  "nbformat": 4,
  "nbformat_minor": 5
}